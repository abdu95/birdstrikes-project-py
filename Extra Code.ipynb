{
 "cells": [
  {
   "cell_type": "code",
   "execution_count": null,
   "metadata": {},
   "outputs": [],
   "source": [
    "# 2) get weather data based on zip\n",
    "#for index, row, date_index, date_row in zip(df_merged.iterrows(),df_w_date.iterrows()):\n",
    "#for index,row in df_w_zip.iterrows():\n",
    "#    for date_index,date_row in df_w_date.iterrows():\n",
    "#        #make the api call\n",
    "#        response = requests.get('https://www.ncdc.noaa.gov/cdo-web/api/v2/data?datasetid=GHCND&locationid=ZIP:'+row.zipcode+'&startdate='+date_row.start_date+'&enddate='+date_row.end_date, headers={'token':Token})\n",
    "#        res_json = json.loads(response.text)\n",
    "#        res_json = res_json['results']\n",
    "#        #new_row = {'date': res_json['date'], 'datatype': res_json['datatype'], 'station': res_json['station'], 'zipcode':row.zipcode, 'attributes': res_json['attributes'], 'value': res_json['value']}\n",
    "#        new_row = {'date': res_json[0]['date'], 'datatype': res_json[0][ 'datatype'], 'station': res_json[0]['station'], 'zipcode':row.zipcode, 'attributes': res_json[0]['attributes'], 'value': res_json[0]['value']}\n",
    "#        df_w_weather = df_w_weather.append(new_row, ignore_index=True)"
   ]
  },
  {
   "cell_type": "code",
   "execution_count": null,
   "metadata": {},
   "outputs": [],
   "source": [
    "# 1) we should connect df_w_zip to df_merged;\n",
    "df_w_coord = pd.merge(df_merged, df_w_zip, how = 'left', left_on = [\"lat\",\"long\"], right_on = [\"lat_\", \"long_\"])\n",
    "df_w_coord.drop(['local_code','lat_','long_'], axis = 1, inplace = True)\n",
    "\n",
    "start_date = pd.date_range(start=\"2015-01-01\",end=\"2020-01-01\", freq = 'AS')\n",
    "end_date = pd.date_range(start=\"2015-12-31\",end=\"2020-12-31\", freq = 'A')\n",
    "\n",
    "start_date = pd.Series(start_date.format(), name = \"start_date\")\n",
    "end_date = pd.Series(end_date.format(), name = \"end_date\")\n",
    "\n",
    "df_w_date = pd.concat([start_date, end_date], axis = 1)\n",
    "df_w_date.head()"
   ]
  },
  {
   "cell_type": "code",
   "execution_count": null,
   "metadata": {},
   "outputs": [],
   "source": [
    "df_w_awnd = get_weather(\"AWND\")\n",
    "df_w_temp = get_weather(\"TOBS\")\n"
   ]
  }
 ],
 "metadata": {
  "kernelspec": {
   "display_name": "Python 3",
   "language": "python",
   "name": "python3"
  },
  "language_info": {
   "codemirror_mode": {
    "name": "ipython",
    "version": 3
   },
   "file_extension": ".py",
   "mimetype": "text/x-python",
   "name": "python",
   "nbconvert_exporter": "python",
   "pygments_lexer": "ipython3",
   "version": "3.8.5"
  }
 },
 "nbformat": 4,
 "nbformat_minor": 4
}
