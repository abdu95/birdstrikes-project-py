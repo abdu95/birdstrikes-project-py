{
 "cells": [
  {
   "cell_type": "markdown",
   "metadata": {},
   "source": [
    "# Birdstrikes"
   ]
  },
  {
   "cell_type": "markdown",
   "metadata": {},
   "source": [
    "by Fasih Atif and Abduvosid Malikov"
   ]
  },
  {
   "cell_type": "markdown",
   "metadata": {},
   "source": [
    "This analysis is dedicated to learn birdstrikes and its causes.  "
   ]
  },
  {
   "cell_type": "markdown",
   "metadata": {},
   "source": [
    "### Libraries"
   ]
  },
  {
   "cell_type": "code",
   "execution_count": 1,
   "metadata": {},
   "outputs": [],
   "source": [
    "import os\n",
    "import pandas as pd \n",
    "import numpy as np "
   ]
  },
  {
   "cell_type": "code",
   "execution_count": 2,
   "metadata": {},
   "outputs": [],
   "source": [
    "# Matplotlib is the python plotting library \n",
    "import matplotlib.pyplot as plt \n",
    "\n",
    "# Seaborn is a wrapper for Matplotlib and makes some things easier, generally imported as \"sns\"\n",
    "import seaborn as sns "
   ]
  },
  {
   "cell_type": "markdown",
   "metadata": {},
   "source": [
    "# Get data"
   ]
  },
  {
   "cell_type": "markdown",
   "metadata": {},
   "source": [
    "For the analysis, we used data from Kaggle. Source: https://www.kaggle.com/faa/wildlife-strikes/code"
   ]
  },
  {
   "cell_type": "code",
   "execution_count": 3,
   "metadata": {},
   "outputs": [
    {
     "name": "stderr",
     "output_type": "stream",
     "text": [
      "C:\\ProgramData\\Anaconda3\\lib\\site-packages\\IPython\\core\\interactiveshell.py:3071: DtypeWarning: Columns (9,12,15,17) have mixed types.Specify dtype option on import or set low_memory=False.\n",
      "  has_raised = await self.run_ast_nodes(code_ast.body, cell_name,\n"
     ]
    }
   ],
   "source": [
    "wild_data = pd.read_csv('database.csv')"
   ]
  },
  {
   "cell_type": "code",
   "execution_count": 4,
   "metadata": {},
   "outputs": [],
   "source": [
    "wild_data = pd.read_csv('database.csv', low_memory=False) "
   ]
  },
  {
   "cell_type": "markdown",
   "metadata": {},
   "source": [
    "### Data Overview"
   ]
  },
  {
   "cell_type": "code",
   "execution_count": 5,
   "metadata": {},
   "outputs": [
    {
     "data": {
      "text/plain": [
       "(174104, 66)"
      ]
     },
     "execution_count": 5,
     "metadata": {},
     "output_type": "execute_result"
    }
   ],
   "source": [
    "wild_data.shape"
   ]
  },
  {
   "cell_type": "markdown",
   "metadata": {},
   "source": [
    "Data contains 174105 rows and 66 columns. "
   ]
  },
  {
   "cell_type": "code",
   "execution_count": 6,
   "metadata": {},
   "outputs": [],
   "source": [
    "pd.set_option('display.max_columns', None)"
   ]
  },
  {
   "cell_type": "code",
   "execution_count": 7,
   "metadata": {},
   "outputs": [
    {
     "data": {
      "text/html": [
       "<div>\n",
       "<style scoped>\n",
       "    .dataframe tbody tr th:only-of-type {\n",
       "        vertical-align: middle;\n",
       "    }\n",
       "\n",
       "    .dataframe tbody tr th {\n",
       "        vertical-align: top;\n",
       "    }\n",
       "\n",
       "    .dataframe thead th {\n",
       "        text-align: right;\n",
       "    }\n",
       "</style>\n",
       "<table border=\"1\" class=\"dataframe\">\n",
       "  <thead>\n",
       "    <tr style=\"text-align: right;\">\n",
       "      <th></th>\n",
       "      <th>Record ID</th>\n",
       "      <th>Incident Year</th>\n",
       "      <th>Incident Month</th>\n",
       "      <th>Incident Day</th>\n",
       "      <th>Operator ID</th>\n",
       "      <th>Operator</th>\n",
       "      <th>Aircraft</th>\n",
       "      <th>Aircraft Type</th>\n",
       "      <th>Aircraft Make</th>\n",
       "      <th>Aircraft Model</th>\n",
       "      <th>Aircraft Mass</th>\n",
       "      <th>Engine Make</th>\n",
       "      <th>Engine Model</th>\n",
       "      <th>Engines</th>\n",
       "      <th>Engine Type</th>\n",
       "      <th>Engine1 Position</th>\n",
       "      <th>Engine2 Position</th>\n",
       "      <th>Engine3 Position</th>\n",
       "      <th>Engine4 Position</th>\n",
       "      <th>Airport ID</th>\n",
       "      <th>Airport</th>\n",
       "      <th>State</th>\n",
       "      <th>FAA Region</th>\n",
       "      <th>Warning Issued</th>\n",
       "      <th>Flight Phase</th>\n",
       "      <th>Visibility</th>\n",
       "      <th>Precipitation</th>\n",
       "      <th>Height</th>\n",
       "      <th>Speed</th>\n",
       "      <th>Distance</th>\n",
       "      <th>Species ID</th>\n",
       "      <th>Species Name</th>\n",
       "      <th>Species Quantity</th>\n",
       "      <th>Flight Impact</th>\n",
       "      <th>Fatalities</th>\n",
       "      <th>Injuries</th>\n",
       "      <th>Aircraft Damage</th>\n",
       "      <th>Radome Strike</th>\n",
       "      <th>Radome Damage</th>\n",
       "      <th>Windshield Strike</th>\n",
       "      <th>Windshield Damage</th>\n",
       "      <th>Nose Strike</th>\n",
       "      <th>Nose Damage</th>\n",
       "      <th>Engine1 Strike</th>\n",
       "      <th>Engine1 Damage</th>\n",
       "      <th>Engine2 Strike</th>\n",
       "      <th>Engine2 Damage</th>\n",
       "      <th>Engine3 Strike</th>\n",
       "      <th>Engine3 Damage</th>\n",
       "      <th>Engine4 Strike</th>\n",
       "      <th>Engine4 Damage</th>\n",
       "      <th>Engine Ingested</th>\n",
       "      <th>Propeller Strike</th>\n",
       "      <th>Propeller Damage</th>\n",
       "      <th>Wing or Rotor Strike</th>\n",
       "      <th>Wing or Rotor Damage</th>\n",
       "      <th>Fuselage Strike</th>\n",
       "      <th>Fuselage Damage</th>\n",
       "      <th>Landing Gear Strike</th>\n",
       "      <th>Landing Gear Damage</th>\n",
       "      <th>Tail Strike</th>\n",
       "      <th>Tail Damage</th>\n",
       "      <th>Lights Strike</th>\n",
       "      <th>Lights Damage</th>\n",
       "      <th>Other Strike</th>\n",
       "      <th>Other Damage</th>\n",
       "    </tr>\n",
       "  </thead>\n",
       "  <tbody>\n",
       "    <tr>\n",
       "      <th>0</th>\n",
       "      <td>127128</td>\n",
       "      <td>1990</td>\n",
       "      <td>1</td>\n",
       "      <td>1</td>\n",
       "      <td>DAL</td>\n",
       "      <td>DELTA AIR LINES</td>\n",
       "      <td>B-757-200</td>\n",
       "      <td>A</td>\n",
       "      <td>148</td>\n",
       "      <td>26</td>\n",
       "      <td>4.0</td>\n",
       "      <td>34.0</td>\n",
       "      <td>40</td>\n",
       "      <td>2.0</td>\n",
       "      <td>D</td>\n",
       "      <td>1</td>\n",
       "      <td>1.0</td>\n",
       "      <td>NaN</td>\n",
       "      <td>NaN</td>\n",
       "      <td>KCVG</td>\n",
       "      <td>CINCINNATI/NORTHERN KENTUCKY INTL ARPT</td>\n",
       "      <td>KY</td>\n",
       "      <td>ASO</td>\n",
       "      <td>NaN</td>\n",
       "      <td>CLIMB</td>\n",
       "      <td>NaN</td>\n",
       "      <td>NaN</td>\n",
       "      <td>NaN</td>\n",
       "      <td>NaN</td>\n",
       "      <td>NaN</td>\n",
       "      <td>NE1</td>\n",
       "      <td>GULL</td>\n",
       "      <td>1</td>\n",
       "      <td>NaN</td>\n",
       "      <td>NaN</td>\n",
       "      <td>NaN</td>\n",
       "      <td>1</td>\n",
       "      <td>1</td>\n",
       "      <td>1</td>\n",
       "      <td>0</td>\n",
       "      <td>0</td>\n",
       "      <td>0</td>\n",
       "      <td>0</td>\n",
       "      <td>0</td>\n",
       "      <td>0</td>\n",
       "      <td>0</td>\n",
       "      <td>0</td>\n",
       "      <td>0</td>\n",
       "      <td>0</td>\n",
       "      <td>0</td>\n",
       "      <td>0</td>\n",
       "      <td>0</td>\n",
       "      <td>0</td>\n",
       "      <td>0</td>\n",
       "      <td>0</td>\n",
       "      <td>0</td>\n",
       "      <td>0</td>\n",
       "      <td>0</td>\n",
       "      <td>0</td>\n",
       "      <td>0</td>\n",
       "      <td>1</td>\n",
       "      <td>1</td>\n",
       "      <td>0</td>\n",
       "      <td>0</td>\n",
       "      <td>0</td>\n",
       "      <td>0</td>\n",
       "    </tr>\n",
       "    <tr>\n",
       "      <th>1</th>\n",
       "      <td>129779</td>\n",
       "      <td>1990</td>\n",
       "      <td>1</td>\n",
       "      <td>1</td>\n",
       "      <td>HAL</td>\n",
       "      <td>HAWAIIAN AIR</td>\n",
       "      <td>DC-9</td>\n",
       "      <td>A</td>\n",
       "      <td>583</td>\n",
       "      <td>90</td>\n",
       "      <td>4.0</td>\n",
       "      <td>34.0</td>\n",
       "      <td>10</td>\n",
       "      <td>2.0</td>\n",
       "      <td>D</td>\n",
       "      <td>5</td>\n",
       "      <td>5.0</td>\n",
       "      <td>NaN</td>\n",
       "      <td>NaN</td>\n",
       "      <td>PHLI</td>\n",
       "      <td>LIHUE ARPT</td>\n",
       "      <td>HI</td>\n",
       "      <td>AWP</td>\n",
       "      <td>NaN</td>\n",
       "      <td>TAKEOFF RUN</td>\n",
       "      <td>NaN</td>\n",
       "      <td>NaN</td>\n",
       "      <td>0.0</td>\n",
       "      <td>NaN</td>\n",
       "      <td>0.0</td>\n",
       "      <td>ZZ201</td>\n",
       "      <td>HOUSE SPARROW</td>\n",
       "      <td>1</td>\n",
       "      <td>NaN</td>\n",
       "      <td>NaN</td>\n",
       "      <td>NaN</td>\n",
       "      <td>0</td>\n",
       "      <td>0</td>\n",
       "      <td>0</td>\n",
       "      <td>0</td>\n",
       "      <td>0</td>\n",
       "      <td>0</td>\n",
       "      <td>0</td>\n",
       "      <td>0</td>\n",
       "      <td>0</td>\n",
       "      <td>0</td>\n",
       "      <td>0</td>\n",
       "      <td>0</td>\n",
       "      <td>0</td>\n",
       "      <td>0</td>\n",
       "      <td>0</td>\n",
       "      <td>0</td>\n",
       "      <td>0</td>\n",
       "      <td>0</td>\n",
       "      <td>0</td>\n",
       "      <td>0</td>\n",
       "      <td>0</td>\n",
       "      <td>0</td>\n",
       "      <td>0</td>\n",
       "      <td>0</td>\n",
       "      <td>0</td>\n",
       "      <td>0</td>\n",
       "      <td>0</td>\n",
       "      <td>0</td>\n",
       "      <td>1</td>\n",
       "      <td>0</td>\n",
       "    </tr>\n",
       "    <tr>\n",
       "      <th>2</th>\n",
       "      <td>129780</td>\n",
       "      <td>1990</td>\n",
       "      <td>1</td>\n",
       "      <td>2</td>\n",
       "      <td>UNK</td>\n",
       "      <td>UNKNOWN</td>\n",
       "      <td>UNKNOWN</td>\n",
       "      <td>NaN</td>\n",
       "      <td>NaN</td>\n",
       "      <td>NaN</td>\n",
       "      <td>NaN</td>\n",
       "      <td>NaN</td>\n",
       "      <td>NaN</td>\n",
       "      <td>NaN</td>\n",
       "      <td>NaN</td>\n",
       "      <td>NaN</td>\n",
       "      <td>NaN</td>\n",
       "      <td>NaN</td>\n",
       "      <td>NaN</td>\n",
       "      <td>PHLI</td>\n",
       "      <td>LIHUE ARPT</td>\n",
       "      <td>HI</td>\n",
       "      <td>AWP</td>\n",
       "      <td>NaN</td>\n",
       "      <td>NaN</td>\n",
       "      <td>NaN</td>\n",
       "      <td>NaN</td>\n",
       "      <td>NaN</td>\n",
       "      <td>NaN</td>\n",
       "      <td>0.0</td>\n",
       "      <td>R1101</td>\n",
       "      <td>BARN OWL</td>\n",
       "      <td>1</td>\n",
       "      <td>NaN</td>\n",
       "      <td>NaN</td>\n",
       "      <td>NaN</td>\n",
       "      <td>0</td>\n",
       "      <td>0</td>\n",
       "      <td>0</td>\n",
       "      <td>0</td>\n",
       "      <td>0</td>\n",
       "      <td>0</td>\n",
       "      <td>0</td>\n",
       "      <td>0</td>\n",
       "      <td>0</td>\n",
       "      <td>0</td>\n",
       "      <td>0</td>\n",
       "      <td>0</td>\n",
       "      <td>0</td>\n",
       "      <td>0</td>\n",
       "      <td>0</td>\n",
       "      <td>0</td>\n",
       "      <td>0</td>\n",
       "      <td>0</td>\n",
       "      <td>0</td>\n",
       "      <td>0</td>\n",
       "      <td>0</td>\n",
       "      <td>0</td>\n",
       "      <td>0</td>\n",
       "      <td>0</td>\n",
       "      <td>0</td>\n",
       "      <td>0</td>\n",
       "      <td>0</td>\n",
       "      <td>0</td>\n",
       "      <td>0</td>\n",
       "      <td>0</td>\n",
       "    </tr>\n",
       "    <tr>\n",
       "      <th>3</th>\n",
       "      <td>2258</td>\n",
       "      <td>1990</td>\n",
       "      <td>1</td>\n",
       "      <td>3</td>\n",
       "      <td>MIL</td>\n",
       "      <td>MILITARY</td>\n",
       "      <td>A-10A</td>\n",
       "      <td>A</td>\n",
       "      <td>345</td>\n",
       "      <td>NaN</td>\n",
       "      <td>3.0</td>\n",
       "      <td>22.0</td>\n",
       "      <td>NaN</td>\n",
       "      <td>2.0</td>\n",
       "      <td>D</td>\n",
       "      <td>NaN</td>\n",
       "      <td>NaN</td>\n",
       "      <td>NaN</td>\n",
       "      <td>NaN</td>\n",
       "      <td>KMYR</td>\n",
       "      <td>MYRTLE BEACH INTL</td>\n",
       "      <td>SC</td>\n",
       "      <td>ASO</td>\n",
       "      <td>NaN</td>\n",
       "      <td>APPROACH</td>\n",
       "      <td>DAY</td>\n",
       "      <td>NaN</td>\n",
       "      <td>200.0</td>\n",
       "      <td>138.0</td>\n",
       "      <td>NaN</td>\n",
       "      <td>UNKBM</td>\n",
       "      <td>UNKNOWN MEDIUM BIRD</td>\n",
       "      <td>1</td>\n",
       "      <td>NaN</td>\n",
       "      <td>NaN</td>\n",
       "      <td>NaN</td>\n",
       "      <td>0</td>\n",
       "      <td>0</td>\n",
       "      <td>0</td>\n",
       "      <td>0</td>\n",
       "      <td>0</td>\n",
       "      <td>0</td>\n",
       "      <td>0</td>\n",
       "      <td>0</td>\n",
       "      <td>0</td>\n",
       "      <td>0</td>\n",
       "      <td>0</td>\n",
       "      <td>0</td>\n",
       "      <td>0</td>\n",
       "      <td>0</td>\n",
       "      <td>0</td>\n",
       "      <td>0</td>\n",
       "      <td>0</td>\n",
       "      <td>0</td>\n",
       "      <td>1</td>\n",
       "      <td>0</td>\n",
       "      <td>0</td>\n",
       "      <td>0</td>\n",
       "      <td>0</td>\n",
       "      <td>0</td>\n",
       "      <td>0</td>\n",
       "      <td>0</td>\n",
       "      <td>0</td>\n",
       "      <td>0</td>\n",
       "      <td>0</td>\n",
       "      <td>0</td>\n",
       "    </tr>\n",
       "    <tr>\n",
       "      <th>4</th>\n",
       "      <td>2257</td>\n",
       "      <td>1990</td>\n",
       "      <td>1</td>\n",
       "      <td>3</td>\n",
       "      <td>MIL</td>\n",
       "      <td>MILITARY</td>\n",
       "      <td>F-16</td>\n",
       "      <td>A</td>\n",
       "      <td>561</td>\n",
       "      <td>NaN</td>\n",
       "      <td>NaN</td>\n",
       "      <td>NaN</td>\n",
       "      <td>NaN</td>\n",
       "      <td>NaN</td>\n",
       "      <td>NaN</td>\n",
       "      <td>NaN</td>\n",
       "      <td>NaN</td>\n",
       "      <td>NaN</td>\n",
       "      <td>NaN</td>\n",
       "      <td>KJAX</td>\n",
       "      <td>JACKSONVILLE INTL</td>\n",
       "      <td>FL</td>\n",
       "      <td>ASO</td>\n",
       "      <td>NaN</td>\n",
       "      <td>CLIMB</td>\n",
       "      <td>DAY</td>\n",
       "      <td>NaN</td>\n",
       "      <td>100.0</td>\n",
       "      <td>200.0</td>\n",
       "      <td>NaN</td>\n",
       "      <td>ZX</td>\n",
       "      <td>FINCH</td>\n",
       "      <td>1</td>\n",
       "      <td>NaN</td>\n",
       "      <td>NaN</td>\n",
       "      <td>NaN</td>\n",
       "      <td>0</td>\n",
       "      <td>0</td>\n",
       "      <td>0</td>\n",
       "      <td>1</td>\n",
       "      <td>0</td>\n",
       "      <td>0</td>\n",
       "      <td>0</td>\n",
       "      <td>0</td>\n",
       "      <td>0</td>\n",
       "      <td>0</td>\n",
       "      <td>0</td>\n",
       "      <td>0</td>\n",
       "      <td>0</td>\n",
       "      <td>0</td>\n",
       "      <td>0</td>\n",
       "      <td>0</td>\n",
       "      <td>0</td>\n",
       "      <td>0</td>\n",
       "      <td>0</td>\n",
       "      <td>0</td>\n",
       "      <td>0</td>\n",
       "      <td>0</td>\n",
       "      <td>0</td>\n",
       "      <td>0</td>\n",
       "      <td>0</td>\n",
       "      <td>0</td>\n",
       "      <td>0</td>\n",
       "      <td>0</td>\n",
       "      <td>0</td>\n",
       "      <td>0</td>\n",
       "    </tr>\n",
       "  </tbody>\n",
       "</table>\n",
       "</div>"
      ],
      "text/plain": [
       "   Record ID  Incident Year  Incident Month  Incident Day Operator ID  \\\n",
       "0     127128           1990               1             1         DAL   \n",
       "1     129779           1990               1             1         HAL   \n",
       "2     129780           1990               1             2         UNK   \n",
       "3       2258           1990               1             3         MIL   \n",
       "4       2257           1990               1             3         MIL   \n",
       "\n",
       "          Operator   Aircraft Aircraft Type Aircraft Make Aircraft Model  \\\n",
       "0  DELTA AIR LINES  B-757-200             A           148             26   \n",
       "1     HAWAIIAN AIR       DC-9             A           583             90   \n",
       "2          UNKNOWN    UNKNOWN           NaN           NaN            NaN   \n",
       "3         MILITARY      A-10A             A           345            NaN   \n",
       "4         MILITARY       F-16             A           561            NaN   \n",
       "\n",
       "   Aircraft Mass  Engine Make Engine Model  Engines Engine Type  \\\n",
       "0            4.0         34.0           40      2.0           D   \n",
       "1            4.0         34.0           10      2.0           D   \n",
       "2            NaN          NaN          NaN      NaN         NaN   \n",
       "3            3.0         22.0          NaN      2.0           D   \n",
       "4            NaN          NaN          NaN      NaN         NaN   \n",
       "\n",
       "  Engine1 Position  Engine2 Position Engine3 Position  Engine4 Position  \\\n",
       "0                1               1.0              NaN               NaN   \n",
       "1                5               5.0              NaN               NaN   \n",
       "2              NaN               NaN              NaN               NaN   \n",
       "3              NaN               NaN              NaN               NaN   \n",
       "4              NaN               NaN              NaN               NaN   \n",
       "\n",
       "  Airport ID                                 Airport State FAA Region  \\\n",
       "0       KCVG  CINCINNATI/NORTHERN KENTUCKY INTL ARPT    KY        ASO   \n",
       "1       PHLI                              LIHUE ARPT    HI        AWP   \n",
       "2       PHLI                              LIHUE ARPT    HI        AWP   \n",
       "3       KMYR                       MYRTLE BEACH INTL    SC        ASO   \n",
       "4       KJAX                       JACKSONVILLE INTL    FL        ASO   \n",
       "\n",
       "  Warning Issued Flight Phase Visibility Precipitation  Height  Speed  \\\n",
       "0            NaN        CLIMB        NaN           NaN     NaN    NaN   \n",
       "1            NaN  TAKEOFF RUN        NaN           NaN     0.0    NaN   \n",
       "2            NaN          NaN        NaN           NaN     NaN    NaN   \n",
       "3            NaN     APPROACH        DAY           NaN   200.0  138.0   \n",
       "4            NaN        CLIMB        DAY           NaN   100.0  200.0   \n",
       "\n",
       "   Distance Species ID         Species Name Species Quantity Flight Impact  \\\n",
       "0       NaN        NE1                 GULL                1           NaN   \n",
       "1       0.0      ZZ201        HOUSE SPARROW                1           NaN   \n",
       "2       0.0      R1101             BARN OWL                1           NaN   \n",
       "3       NaN      UNKBM  UNKNOWN MEDIUM BIRD                1           NaN   \n",
       "4       NaN         ZX                FINCH                1           NaN   \n",
       "\n",
       "   Fatalities  Injuries  Aircraft Damage  Radome Strike  Radome Damage  \\\n",
       "0         NaN       NaN                1              1              1   \n",
       "1         NaN       NaN                0              0              0   \n",
       "2         NaN       NaN                0              0              0   \n",
       "3         NaN       NaN                0              0              0   \n",
       "4         NaN       NaN                0              0              0   \n",
       "\n",
       "   Windshield Strike  Windshield Damage  Nose Strike  Nose Damage  \\\n",
       "0                  0                  0            0            0   \n",
       "1                  0                  0            0            0   \n",
       "2                  0                  0            0            0   \n",
       "3                  0                  0            0            0   \n",
       "4                  1                  0            0            0   \n",
       "\n",
       "   Engine1 Strike  Engine1 Damage  Engine2 Strike  Engine2 Damage  \\\n",
       "0               0               0               0               0   \n",
       "1               0               0               0               0   \n",
       "2               0               0               0               0   \n",
       "3               0               0               0               0   \n",
       "4               0               0               0               0   \n",
       "\n",
       "   Engine3 Strike  Engine3 Damage  Engine4 Strike  Engine4 Damage  \\\n",
       "0               0               0               0               0   \n",
       "1               0               0               0               0   \n",
       "2               0               0               0               0   \n",
       "3               0               0               0               0   \n",
       "4               0               0               0               0   \n",
       "\n",
       "   Engine Ingested  Propeller Strike  Propeller Damage  Wing or Rotor Strike  \\\n",
       "0                0                 0                 0                     0   \n",
       "1                0                 0                 0                     0   \n",
       "2                0                 0                 0                     0   \n",
       "3                0                 0                 0                     1   \n",
       "4                0                 0                 0                     0   \n",
       "\n",
       "   Wing or Rotor Damage  Fuselage Strike  Fuselage Damage  \\\n",
       "0                     0                0                0   \n",
       "1                     0                0                0   \n",
       "2                     0                0                0   \n",
       "3                     0                0                0   \n",
       "4                     0                0                0   \n",
       "\n",
       "   Landing Gear Strike  Landing Gear Damage  Tail Strike  Tail Damage  \\\n",
       "0                    0                    0            1            1   \n",
       "1                    0                    0            0            0   \n",
       "2                    0                    0            0            0   \n",
       "3                    0                    0            0            0   \n",
       "4                    0                    0            0            0   \n",
       "\n",
       "   Lights Strike  Lights Damage  Other Strike  Other Damage  \n",
       "0              0              0             0             0  \n",
       "1              0              0             1             0  \n",
       "2              0              0             0             0  \n",
       "3              0              0             0             0  \n",
       "4              0              0             0             0  "
      ]
     },
     "execution_count": 7,
     "metadata": {},
     "output_type": "execute_result"
    }
   ],
   "source": [
    "wild_data.head()"
   ]
  },
  {
   "cell_type": "code",
   "execution_count": 10,
   "metadata": {},
   "outputs": [
    {
     "data": {
      "text/plain": [
       "Index(['Record ID', 'Incident Year', 'Incident Month', 'Incident Day',\n",
       "       'Operator ID', 'Operator', 'Aircraft', 'Aircraft Type', 'Aircraft Make',\n",
       "       'Aircraft Model', 'Aircraft Mass', 'Engine Make', 'Engine Model',\n",
       "       'Engines', 'Engine Type', 'Engine1 Position', 'Engine2 Position',\n",
       "       'Engine3 Position', 'Engine4 Position', 'Airport ID', 'Airport',\n",
       "       'State', 'FAA Region', 'Warning Issued', 'Flight Phase', 'Visibility',\n",
       "       'Precipitation', 'Height', 'Speed', 'Distance', 'Species ID',\n",
       "       'Species Name', 'Species Quantity', 'Flight Impact', 'Fatalities',\n",
       "       'Injuries', 'Aircraft Damage', 'Radome Strike', 'Radome Damage',\n",
       "       'Windshield Strike', 'Windshield Damage', 'Nose Strike', 'Nose Damage',\n",
       "       'Engine1 Strike', 'Engine1 Damage', 'Engine2 Strike', 'Engine2 Damage',\n",
       "       'Engine3 Strike', 'Engine3 Damage', 'Engine4 Strike', 'Engine4 Damage',\n",
       "       'Engine Ingested', 'Propeller Strike', 'Propeller Damage',\n",
       "       'Wing or Rotor Strike', 'Wing or Rotor Damage', 'Fuselage Strike',\n",
       "       'Fuselage Damage', 'Landing Gear Strike', 'Landing Gear Damage',\n",
       "       'Tail Strike', 'Tail Damage', 'Lights Strike', 'Lights Damage',\n",
       "       'Other Strike', 'Other Damage'],\n",
       "      dtype='object')"
      ]
     },
     "execution_count": 10,
     "metadata": {},
     "output_type": "execute_result"
    }
   ],
   "source": [
    "wild_data.columns "
   ]
  },
  {
   "cell_type": "markdown",
   "metadata": {},
   "source": [
    "We have different types of columns, including numeric and categorical (integer, float, object). The variables describe the Airport, Aircraft, and Species"
   ]
  },
  {
   "cell_type": "code",
   "execution_count": 11,
   "metadata": {},
   "outputs": [
    {
     "name": "stdout",
     "output_type": "stream",
     "text": [
      "<class 'pandas.core.frame.DataFrame'>\n",
      "RangeIndex: 174104 entries, 0 to 174103\n",
      "Data columns (total 66 columns):\n",
      " #   Column                Non-Null Count   Dtype  \n",
      "---  ------                --------------   -----  \n",
      " 0   Record ID             174104 non-null  int64  \n",
      " 1   Incident Year         174104 non-null  int64  \n",
      " 2   Incident Month        174104 non-null  int64  \n",
      " 3   Incident Day          174104 non-null  int64  \n",
      " 4   Operator ID           174104 non-null  object \n",
      " 5   Operator              174104 non-null  object \n",
      " 6   Aircraft              174104 non-null  object \n",
      " 7   Aircraft Type         133074 non-null  object \n",
      " 8   Aircraft Make         131051 non-null  object \n",
      " 9   Aircraft Model        122439 non-null  object \n",
      " 10  Aircraft Mass         127320 non-null  float64\n",
      " 11  Engine Make           123434 non-null  float64\n",
      " 12  Engine Model          121988 non-null  object \n",
      " 13  Engines               127342 non-null  float64\n",
      " 14  Engine Type           127282 non-null  object \n",
      " 15  Engine1 Position      126193 non-null  object \n",
      " 16  Engine2 Position      118715 non-null  float64\n",
      " 17  Engine3 Position      11659 non-null   object \n",
      " 18  Engine4 Position      3092 non-null    float64\n",
      " 19  Airport ID            174104 non-null  object \n",
      " 20  Airport               173814 non-null  object \n",
      " 21  State                 152128 non-null  object \n",
      " 22  FAA Region            155202 non-null  object \n",
      " 23  Warning Issued        76418 non-null   object \n",
      " 24  Flight Phase          118802 non-null  object \n",
      " 25  Visibility            109933 non-null  object \n",
      " 26  Precipitation         88322 non-null   object \n",
      " 27  Height                103677 non-null  float64\n",
      " 28  Speed                 71258 non-null   float64\n",
      " 29  Distance              99713 non-null   float64\n",
      " 30  Species ID            174104 non-null  object \n",
      " 31  Species Name          174024 non-null  object \n",
      " 32  Species Quantity      169627 non-null  object \n",
      " 33  Flight Impact         99465 non-null   object \n",
      " 34  Fatalities            565 non-null     float64\n",
      " 35  Injuries              229 non-null     float64\n",
      " 36  Aircraft Damage       174104 non-null  int64  \n",
      " 37  Radome Strike         174104 non-null  int64  \n",
      " 38  Radome Damage         174104 non-null  int64  \n",
      " 39  Windshield Strike     174104 non-null  int64  \n",
      " 40  Windshield Damage     174104 non-null  int64  \n",
      " 41  Nose Strike           174104 non-null  int64  \n",
      " 42  Nose Damage           174104 non-null  int64  \n",
      " 43  Engine1 Strike        174104 non-null  int64  \n",
      " 44  Engine1 Damage        174104 non-null  int64  \n",
      " 45  Engine2 Strike        174104 non-null  int64  \n",
      " 46  Engine2 Damage        174104 non-null  int64  \n",
      " 47  Engine3 Strike        174104 non-null  int64  \n",
      " 48  Engine3 Damage        174104 non-null  int64  \n",
      " 49  Engine4 Strike        174104 non-null  int64  \n",
      " 50  Engine4 Damage        174104 non-null  int64  \n",
      " 51  Engine Ingested       174104 non-null  int64  \n",
      " 52  Propeller Strike      174104 non-null  int64  \n",
      " 53  Propeller Damage      174104 non-null  int64  \n",
      " 54  Wing or Rotor Strike  174104 non-null  int64  \n",
      " 55  Wing or Rotor Damage  174104 non-null  int64  \n",
      " 56  Fuselage Strike       174104 non-null  int64  \n",
      " 57  Fuselage Damage       174104 non-null  int64  \n",
      " 58  Landing Gear Strike   174104 non-null  int64  \n",
      " 59  Landing Gear Damage   174104 non-null  int64  \n",
      " 60  Tail Strike           174104 non-null  int64  \n",
      " 61  Tail Damage           174104 non-null  int64  \n",
      " 62  Lights Strike         174104 non-null  int64  \n",
      " 63  Lights Damage         174104 non-null  int64  \n",
      " 64  Other Strike          174104 non-null  int64  \n",
      " 65  Other Damage          174104 non-null  int64  \n",
      "dtypes: float64(10), int64(34), object(22)\n",
      "memory usage: 87.7+ MB\n"
     ]
    }
   ],
   "source": [
    "wild_data.info()"
   ]
  },
  {
   "cell_type": "markdown",
   "metadata": {},
   "source": [
    "Data contains a lot of missing values in different columns"
   ]
  },
  {
   "cell_type": "code",
   "execution_count": 12,
   "metadata": {},
   "outputs": [
    {
     "name": "stdout",
     "output_type": "stream",
     "text": [
      "Aircraft Type        41030\n",
      "Aircraft Make        43053\n",
      "Aircraft Model       51665\n",
      "Aircraft Mass        46784\n",
      "Engine Make          50670\n",
      "Engine Model         52116\n",
      "Engines              46762\n",
      "Engine Type          46822\n",
      "Engine1 Position     47911\n",
      "Engine2 Position     55389\n",
      "Engine3 Position    162445\n",
      "Engine4 Position    171012\n",
      "Airport                290\n",
      "State                21976\n",
      "FAA Region           18902\n",
      "Warning Issued       97686\n",
      "Flight Phase         55302\n",
      "Visibility           64171\n",
      "Precipitation        85782\n",
      "Height               70427\n",
      "Speed               102846\n",
      "Distance             74391\n",
      "Species Name            80\n",
      "Species Quantity      4477\n",
      "Flight Impact        74639\n",
      "Fatalities          173539\n",
      "Injuries            173875\n",
      "dtype: int64\n"
     ]
    }
   ],
   "source": [
    "null_columns = wild_data.columns[wild_data.isnull().any()]\n",
    "print(wild_data[null_columns].isnull().sum())"
   ]
  },
  {
   "cell_type": "markdown",
   "metadata": {},
   "source": [
    "There were 12 birdstrikes that caused to at least 1 fatality "
   ]
  },
  {
   "cell_type": "code",
   "execution_count": 30,
   "metadata": {},
   "outputs": [
    {
     "data": {
      "text/plain": [
       "12"
      ]
     },
     "execution_count": 30,
     "metadata": {},
     "output_type": "execute_result"
    }
   ],
   "source": [
    "len(wild_data[wild_data['Fatalities'] >= 1])"
   ]
  },
  {
   "cell_type": "markdown",
   "metadata": {},
   "source": [
    "### Data Cleaning"
   ]
  },
  {
   "cell_type": "markdown",
   "metadata": {},
   "source": [
    "To narrow down the research, we decided to filter birdstrikes that happened after 2010"
   ]
  },
  {
   "cell_type": "code",
   "execution_count": 13,
   "metadata": {},
   "outputs": [],
   "source": [
    "wild_filtered = wild_data[wild_data['Incident Year'] >= 2010] "
   ]
  },
  {
   "cell_type": "code",
   "execution_count": 16,
   "metadata": {},
   "outputs": [
    {
     "data": {
      "text/plain": [
       "67351"
      ]
     },
     "execution_count": 16,
     "metadata": {},
     "output_type": "execute_result"
    }
   ],
   "source": [
    "len(wild_filtered)"
   ]
  },
  {
   "cell_type": "markdown",
   "metadata": {},
   "source": [
    "67351 birdstrikes were recorded starting from 2010"
   ]
  },
  {
   "cell_type": "code",
   "execution_count": 17,
   "metadata": {},
   "outputs": [],
   "source": [
    "state_filtered = wild_filtered[wild_filtered['State'].notna()]"
   ]
  },
  {
   "cell_type": "code",
   "execution_count": 20,
   "metadata": {},
   "outputs": [
    {
     "data": {
      "text/plain": [
       "58736"
      ]
     },
     "execution_count": 20,
     "metadata": {},
     "output_type": "execute_result"
    }
   ],
   "source": [
    "len(state_filtered)"
   ]
  },
  {
   "cell_type": "markdown",
   "metadata": {},
   "source": [
    "58736 observations does not contain missing value for the State column"
   ]
  },
  {
   "cell_type": "markdown",
   "metadata": {},
   "source": [
    "There is no row that does not contain missing value for any column"
   ]
  },
  {
   "cell_type": "code",
   "execution_count": 21,
   "metadata": {},
   "outputs": [],
   "source": [
    "rows_no_missing = wild_filtered.dropna()"
   ]
  },
  {
   "cell_type": "code",
   "execution_count": 22,
   "metadata": {},
   "outputs": [
    {
     "data": {
      "text/html": [
       "<div>\n",
       "<style scoped>\n",
       "    .dataframe tbody tr th:only-of-type {\n",
       "        vertical-align: middle;\n",
       "    }\n",
       "\n",
       "    .dataframe tbody tr th {\n",
       "        vertical-align: top;\n",
       "    }\n",
       "\n",
       "    .dataframe thead th {\n",
       "        text-align: right;\n",
       "    }\n",
       "</style>\n",
       "<table border=\"1\" class=\"dataframe\">\n",
       "  <thead>\n",
       "    <tr style=\"text-align: right;\">\n",
       "      <th></th>\n",
       "      <th>Record ID</th>\n",
       "      <th>Incident Year</th>\n",
       "      <th>Incident Month</th>\n",
       "      <th>Incident Day</th>\n",
       "      <th>Operator ID</th>\n",
       "      <th>Operator</th>\n",
       "      <th>Aircraft</th>\n",
       "      <th>Aircraft Type</th>\n",
       "      <th>Aircraft Make</th>\n",
       "      <th>Aircraft Model</th>\n",
       "      <th>Aircraft Mass</th>\n",
       "      <th>Engine Make</th>\n",
       "      <th>Engine Model</th>\n",
       "      <th>Engines</th>\n",
       "      <th>Engine Type</th>\n",
       "      <th>Engine1 Position</th>\n",
       "      <th>Engine2 Position</th>\n",
       "      <th>Engine3 Position</th>\n",
       "      <th>Engine4 Position</th>\n",
       "      <th>Airport ID</th>\n",
       "      <th>Airport</th>\n",
       "      <th>State</th>\n",
       "      <th>FAA Region</th>\n",
       "      <th>Warning Issued</th>\n",
       "      <th>Flight Phase</th>\n",
       "      <th>Visibility</th>\n",
       "      <th>Precipitation</th>\n",
       "      <th>Height</th>\n",
       "      <th>Speed</th>\n",
       "      <th>Distance</th>\n",
       "      <th>Species ID</th>\n",
       "      <th>Species Name</th>\n",
       "      <th>Species Quantity</th>\n",
       "      <th>Flight Impact</th>\n",
       "      <th>Fatalities</th>\n",
       "      <th>Injuries</th>\n",
       "      <th>Aircraft Damage</th>\n",
       "      <th>Radome Strike</th>\n",
       "      <th>Radome Damage</th>\n",
       "      <th>Windshield Strike</th>\n",
       "      <th>Windshield Damage</th>\n",
       "      <th>Nose Strike</th>\n",
       "      <th>Nose Damage</th>\n",
       "      <th>Engine1 Strike</th>\n",
       "      <th>Engine1 Damage</th>\n",
       "      <th>Engine2 Strike</th>\n",
       "      <th>Engine2 Damage</th>\n",
       "      <th>Engine3 Strike</th>\n",
       "      <th>Engine3 Damage</th>\n",
       "      <th>Engine4 Strike</th>\n",
       "      <th>Engine4 Damage</th>\n",
       "      <th>Engine Ingested</th>\n",
       "      <th>Propeller Strike</th>\n",
       "      <th>Propeller Damage</th>\n",
       "      <th>Wing or Rotor Strike</th>\n",
       "      <th>Wing or Rotor Damage</th>\n",
       "      <th>Fuselage Strike</th>\n",
       "      <th>Fuselage Damage</th>\n",
       "      <th>Landing Gear Strike</th>\n",
       "      <th>Landing Gear Damage</th>\n",
       "      <th>Tail Strike</th>\n",
       "      <th>Tail Damage</th>\n",
       "      <th>Lights Strike</th>\n",
       "      <th>Lights Damage</th>\n",
       "      <th>Other Strike</th>\n",
       "      <th>Other Damage</th>\n",
       "    </tr>\n",
       "  </thead>\n",
       "  <tbody>\n",
       "  </tbody>\n",
       "</table>\n",
       "</div>"
      ],
      "text/plain": [
       "Empty DataFrame\n",
       "Columns: [Record ID, Incident Year, Incident Month, Incident Day, Operator ID, Operator, Aircraft, Aircraft Type, Aircraft Make, Aircraft Model, Aircraft Mass, Engine Make, Engine Model, Engines, Engine Type, Engine1 Position, Engine2 Position, Engine3 Position, Engine4 Position, Airport ID, Airport, State, FAA Region, Warning Issued, Flight Phase, Visibility, Precipitation, Height, Speed, Distance, Species ID, Species Name, Species Quantity, Flight Impact, Fatalities, Injuries, Aircraft Damage, Radome Strike, Radome Damage, Windshield Strike, Windshield Damage, Nose Strike, Nose Damage, Engine1 Strike, Engine1 Damage, Engine2 Strike, Engine2 Damage, Engine3 Strike, Engine3 Damage, Engine4 Strike, Engine4 Damage, Engine Ingested, Propeller Strike, Propeller Damage, Wing or Rotor Strike, Wing or Rotor Damage, Fuselage Strike, Fuselage Damage, Landing Gear Strike, Landing Gear Damage, Tail Strike, Tail Damage, Lights Strike, Lights Damage, Other Strike, Other Damage]\n",
       "Index: []"
      ]
     },
     "execution_count": 22,
     "metadata": {},
     "output_type": "execute_result"
    }
   ],
   "source": [
    "rows_no_missing"
   ]
  },
  {
   "cell_type": "markdown",
   "metadata": {},
   "source": [
    "Instead of 66 columns, we decided to focus on most important variables and dropped the rest. The variables we used is shown below"
   ]
  },
  {
   "cell_type": "code",
   "execution_count": 39,
   "metadata": {},
   "outputs": [],
   "source": [
    "columns_filtered = state_filtered[['Incident Year', 'Incident Month', 'Incident Day', 'Operator ID', 'Operator', 'Aircraft', 'Airport ID', 'Airport', 'State', 'Flight Phase', 'Visibility', 'Height', 'Speed', 'Distance', 'Species ID', 'Species Name', 'Species Quantity', 'Flight Impact']]"
   ]
  },
  {
   "cell_type": "code",
   "execution_count": 41,
   "metadata": {},
   "outputs": [
    {
     "data": {
      "text/html": [
       "<div>\n",
       "<style scoped>\n",
       "    .dataframe tbody tr th:only-of-type {\n",
       "        vertical-align: middle;\n",
       "    }\n",
       "\n",
       "    .dataframe tbody tr th {\n",
       "        vertical-align: top;\n",
       "    }\n",
       "\n",
       "    .dataframe thead th {\n",
       "        text-align: right;\n",
       "    }\n",
       "</style>\n",
       "<table border=\"1\" class=\"dataframe\">\n",
       "  <thead>\n",
       "    <tr style=\"text-align: right;\">\n",
       "      <th></th>\n",
       "      <th>Incident Year</th>\n",
       "      <th>Incident Month</th>\n",
       "      <th>Incident Day</th>\n",
       "      <th>Operator ID</th>\n",
       "      <th>Operator</th>\n",
       "      <th>Aircraft</th>\n",
       "      <th>Airport ID</th>\n",
       "      <th>Airport</th>\n",
       "      <th>State</th>\n",
       "      <th>Flight Phase</th>\n",
       "      <th>Visibility</th>\n",
       "      <th>Height</th>\n",
       "      <th>Speed</th>\n",
       "      <th>Distance</th>\n",
       "      <th>Species ID</th>\n",
       "      <th>Species Name</th>\n",
       "      <th>Species Quantity</th>\n",
       "      <th>Flight Impact</th>\n",
       "    </tr>\n",
       "  </thead>\n",
       "  <tbody>\n",
       "    <tr>\n",
       "      <th>106753</th>\n",
       "      <td>2010</td>\n",
       "      <td>1</td>\n",
       "      <td>1</td>\n",
       "      <td>BUS</td>\n",
       "      <td>BUSINESS</td>\n",
       "      <td>C-310</td>\n",
       "      <td>KPMP</td>\n",
       "      <td>POMPANO BEACH AIRPARK</td>\n",
       "      <td>FL</td>\n",
       "      <td>TAKEOFF RUN</td>\n",
       "      <td>DAY</td>\n",
       "      <td>0.0</td>\n",
       "      <td>30.0</td>\n",
       "      <td>0.0</td>\n",
       "      <td>NE1</td>\n",
       "      <td>GULL</td>\n",
       "      <td>1</td>\n",
       "      <td>ABORTED TAKEOFF</td>\n",
       "    </tr>\n",
       "    <tr>\n",
       "      <th>106754</th>\n",
       "      <td>2010</td>\n",
       "      <td>1</td>\n",
       "      <td>1</td>\n",
       "      <td>JBU</td>\n",
       "      <td>JETBLUE AIRWAYS</td>\n",
       "      <td>A-320</td>\n",
       "      <td>KMCO</td>\n",
       "      <td>ORLANDO INTL</td>\n",
       "      <td>FL</td>\n",
       "      <td>TAKEOFF RUN</td>\n",
       "      <td>DAY</td>\n",
       "      <td>0.0</td>\n",
       "      <td>120.0</td>\n",
       "      <td>0.0</td>\n",
       "      <td>ZT3</td>\n",
       "      <td>GRACKLE</td>\n",
       "      <td>1</td>\n",
       "      <td>NONE</td>\n",
       "    </tr>\n",
       "    <tr>\n",
       "      <th>106755</th>\n",
       "      <td>2010</td>\n",
       "      <td>1</td>\n",
       "      <td>1</td>\n",
       "      <td>RPA</td>\n",
       "      <td>REPUBLIC AIRLINES</td>\n",
       "      <td>EMB-170</td>\n",
       "      <td>KBDL</td>\n",
       "      <td>BRADLEY INTL</td>\n",
       "      <td>CT</td>\n",
       "      <td>CLIMB</td>\n",
       "      <td>DAY</td>\n",
       "      <td>NaN</td>\n",
       "      <td>NaN</td>\n",
       "      <td>NaN</td>\n",
       "      <td>ZX002</td>\n",
       "      <td>LAPLAND LONGSPUR</td>\n",
       "      <td>1</td>\n",
       "      <td>NONE</td>\n",
       "    </tr>\n",
       "    <tr>\n",
       "      <th>106756</th>\n",
       "      <td>2010</td>\n",
       "      <td>1</td>\n",
       "      <td>1</td>\n",
       "      <td>WJA</td>\n",
       "      <td>WESTJET</td>\n",
       "      <td>B-737-800</td>\n",
       "      <td>PHNL</td>\n",
       "      <td>HONOLULU INTL ARPT</td>\n",
       "      <td>HI</td>\n",
       "      <td>TAKEOFF RUN</td>\n",
       "      <td>NIGHT</td>\n",
       "      <td>0.0</td>\n",
       "      <td>NaN</td>\n",
       "      <td>0.0</td>\n",
       "      <td>N5122</td>\n",
       "      <td>PACIFIC GOLDEN-PLOVER</td>\n",
       "      <td>1</td>\n",
       "      <td>NONE</td>\n",
       "    </tr>\n",
       "    <tr>\n",
       "      <th>106757</th>\n",
       "      <td>2010</td>\n",
       "      <td>1</td>\n",
       "      <td>1</td>\n",
       "      <td>DAL</td>\n",
       "      <td>DELTA AIR LINES</td>\n",
       "      <td>B-737-800</td>\n",
       "      <td>KMIA</td>\n",
       "      <td>MIAMI INTL</td>\n",
       "      <td>FL</td>\n",
       "      <td>LANDING ROLL</td>\n",
       "      <td>DAY</td>\n",
       "      <td>0.0</td>\n",
       "      <td>NaN</td>\n",
       "      <td>0.0</td>\n",
       "      <td>N5111</td>\n",
       "      <td>KILLDEER</td>\n",
       "      <td>2-10</td>\n",
       "      <td>NONE</td>\n",
       "    </tr>\n",
       "  </tbody>\n",
       "</table>\n",
       "</div>"
      ],
      "text/plain": [
       "        Incident Year  Incident Month  Incident Day Operator ID  \\\n",
       "106753           2010               1             1         BUS   \n",
       "106754           2010               1             1         JBU   \n",
       "106755           2010               1             1         RPA   \n",
       "106756           2010               1             1         WJA   \n",
       "106757           2010               1             1         DAL   \n",
       "\n",
       "                 Operator   Aircraft Airport ID                Airport State  \\\n",
       "106753           BUSINESS      C-310       KPMP  POMPANO BEACH AIRPARK    FL   \n",
       "106754    JETBLUE AIRWAYS      A-320       KMCO           ORLANDO INTL    FL   \n",
       "106755  REPUBLIC AIRLINES    EMB-170       KBDL           BRADLEY INTL    CT   \n",
       "106756            WESTJET  B-737-800       PHNL     HONOLULU INTL ARPT    HI   \n",
       "106757    DELTA AIR LINES  B-737-800       KMIA             MIAMI INTL    FL   \n",
       "\n",
       "        Flight Phase Visibility  Height  Speed  Distance Species ID  \\\n",
       "106753   TAKEOFF RUN        DAY     0.0   30.0       0.0        NE1   \n",
       "106754   TAKEOFF RUN        DAY     0.0  120.0       0.0        ZT3   \n",
       "106755         CLIMB        DAY     NaN    NaN       NaN      ZX002   \n",
       "106756   TAKEOFF RUN      NIGHT     0.0    NaN       0.0      N5122   \n",
       "106757  LANDING ROLL        DAY     0.0    NaN       0.0      N5111   \n",
       "\n",
       "                 Species Name Species Quantity    Flight Impact  \n",
       "106753                   GULL                1  ABORTED TAKEOFF  \n",
       "106754                GRACKLE                1             NONE  \n",
       "106755       LAPLAND LONGSPUR                1             NONE  \n",
       "106756  PACIFIC GOLDEN-PLOVER                1             NONE  \n",
       "106757               KILLDEER             2-10             NONE  "
      ]
     },
     "execution_count": 41,
     "metadata": {},
     "output_type": "execute_result"
    }
   ],
   "source": [
    "columns_filtered.head()"
   ]
  },
  {
   "cell_type": "markdown",
   "metadata": {},
   "source": [
    "Here we check the missing values again"
   ]
  },
  {
   "cell_type": "code",
   "execution_count": 67,
   "metadata": {},
   "outputs": [],
   "source": [
    "miss_columns = columns_filtered.columns[columns_filtered.isnull().any()]"
   ]
  },
  {
   "cell_type": "code",
   "execution_count": 69,
   "metadata": {},
   "outputs": [
    {
     "name": "stdout",
     "output_type": "stream",
     "text": [
      "Flight Phase        20962\n",
      "Visibility          23478\n",
      "Height              25681\n",
      "Speed               37820\n",
      "Distance            12730\n",
      "Species Name           78\n",
      "Species Quantity     1448\n",
      "Flight Impact       26422\n",
      "dtype: int64\n"
     ]
    }
   ],
   "source": [
    "print(columns_filtered[miss_columns].isnull().sum())"
   ]
  },
  {
   "cell_type": "markdown",
   "metadata": {},
   "source": [
    "The list above shows the column name and number of rows where the value for that column is missing "
   ]
  },
  {
   "cell_type": "code",
   "execution_count": 74,
   "metadata": {},
   "outputs": [],
   "source": [
    "df_cleaned = columns_filtered.dropna(subset=['Flight Phase', 'Visibility', 'Height'], axis = 0)"
   ]
  },
  {
   "cell_type": "markdown",
   "metadata": {},
   "source": [
    "Now we know the columns where the most missing values are. We dropped the relative rows"
   ]
  },
  {
   "cell_type": "code",
   "execution_count": 78,
   "metadata": {},
   "outputs": [
    {
     "data": {
      "text/plain": [
       "31063"
      ]
     },
     "execution_count": 78,
     "metadata": {},
     "output_type": "execute_result"
    }
   ],
   "source": [
    "len(df_cleaned)"
   ]
  },
  {
   "cell_type": "markdown",
   "metadata": {},
   "source": [
    "We left with 31063 observations"
   ]
  },
  {
   "cell_type": "code",
   "execution_count": 81,
   "metadata": {},
   "outputs": [
    {
     "name": "stderr",
     "output_type": "stream",
     "text": [
      "<ipython-input-81-f530b0af7413>:1: SettingWithCopyWarning: \n",
      "A value is trying to be set on a copy of a slice from a DataFrame.\n",
      "Try using .loc[row_indexer,col_indexer] = value instead\n",
      "\n",
      "See the caveats in the documentation: https://pandas.pydata.org/pandas-docs/stable/user_guide/indexing.html#returning-a-view-versus-a-copy\n",
      "  df_cleaned[\"incident_date\"] = df_cleaned[\"Incident Year\"].astype(str) + \"-\" + df_cleaned[\"Incident Month\"].astype(str) + \"-\" + df_cleaned[\"Incident Day\"].astype(str)\n",
      "<ipython-input-81-f530b0af7413>:2: SettingWithCopyWarning: \n",
      "A value is trying to be set on a copy of a slice from a DataFrame.\n",
      "Try using .loc[row_indexer,col_indexer] = value instead\n",
      "\n",
      "See the caveats in the documentation: https://pandas.pydata.org/pandas-docs/stable/user_guide/indexing.html#returning-a-view-versus-a-copy\n",
      "  df_cleaned[\"incident_date\"] = pd.to_datetime(df_cleaned['incident_date'], format= '%Y-%m-%d').astype(str)\n"
     ]
    }
   ],
   "source": [
    "df_cleaned[\"incident_date\"] = df_cleaned[\"Incident Year\"].astype(str) + \"-\" + df_cleaned[\"Incident Month\"].astype(str) + \"-\" + df_cleaned[\"Incident Day\"].astype(str)\n",
    "df_cleaned[\"incident_date\"] = pd.to_datetime(df_cleaned['incident_date'], format= '%Y-%m-%d').astype(str)"
   ]
  },
  {
   "cell_type": "code",
   "execution_count": 82,
   "metadata": {},
   "outputs": [
    {
     "data": {
      "text/html": [
       "<div>\n",
       "<style scoped>\n",
       "    .dataframe tbody tr th:only-of-type {\n",
       "        vertical-align: middle;\n",
       "    }\n",
       "\n",
       "    .dataframe tbody tr th {\n",
       "        vertical-align: top;\n",
       "    }\n",
       "\n",
       "    .dataframe thead th {\n",
       "        text-align: right;\n",
       "    }\n",
       "</style>\n",
       "<table border=\"1\" class=\"dataframe\">\n",
       "  <thead>\n",
       "    <tr style=\"text-align: right;\">\n",
       "      <th></th>\n",
       "      <th>Incident Year</th>\n",
       "      <th>Incident Month</th>\n",
       "      <th>Incident Day</th>\n",
       "      <th>Operator ID</th>\n",
       "      <th>Operator</th>\n",
       "      <th>Aircraft</th>\n",
       "      <th>Airport ID</th>\n",
       "      <th>Airport</th>\n",
       "      <th>State</th>\n",
       "      <th>Flight Phase</th>\n",
       "      <th>Visibility</th>\n",
       "      <th>Height</th>\n",
       "      <th>Speed</th>\n",
       "      <th>Distance</th>\n",
       "      <th>Species ID</th>\n",
       "      <th>Species Name</th>\n",
       "      <th>Species Quantity</th>\n",
       "      <th>Flight Impact</th>\n",
       "      <th>incident_date</th>\n",
       "    </tr>\n",
       "  </thead>\n",
       "  <tbody>\n",
       "    <tr>\n",
       "      <th>106753</th>\n",
       "      <td>2010</td>\n",
       "      <td>1</td>\n",
       "      <td>1</td>\n",
       "      <td>BUS</td>\n",
       "      <td>BUSINESS</td>\n",
       "      <td>C-310</td>\n",
       "      <td>KPMP</td>\n",
       "      <td>POMPANO BEACH AIRPARK</td>\n",
       "      <td>FL</td>\n",
       "      <td>TAKEOFF RUN</td>\n",
       "      <td>DAY</td>\n",
       "      <td>0.0</td>\n",
       "      <td>30.0</td>\n",
       "      <td>0.0</td>\n",
       "      <td>NE1</td>\n",
       "      <td>GULL</td>\n",
       "      <td>1</td>\n",
       "      <td>ABORTED TAKEOFF</td>\n",
       "      <td>2010-01-01</td>\n",
       "    </tr>\n",
       "    <tr>\n",
       "      <th>106754</th>\n",
       "      <td>2010</td>\n",
       "      <td>1</td>\n",
       "      <td>1</td>\n",
       "      <td>JBU</td>\n",
       "      <td>JETBLUE AIRWAYS</td>\n",
       "      <td>A-320</td>\n",
       "      <td>KMCO</td>\n",
       "      <td>ORLANDO INTL</td>\n",
       "      <td>FL</td>\n",
       "      <td>TAKEOFF RUN</td>\n",
       "      <td>DAY</td>\n",
       "      <td>0.0</td>\n",
       "      <td>120.0</td>\n",
       "      <td>0.0</td>\n",
       "      <td>ZT3</td>\n",
       "      <td>GRACKLE</td>\n",
       "      <td>1</td>\n",
       "      <td>NONE</td>\n",
       "      <td>2010-01-01</td>\n",
       "    </tr>\n",
       "    <tr>\n",
       "      <th>106756</th>\n",
       "      <td>2010</td>\n",
       "      <td>1</td>\n",
       "      <td>1</td>\n",
       "      <td>WJA</td>\n",
       "      <td>WESTJET</td>\n",
       "      <td>B-737-800</td>\n",
       "      <td>PHNL</td>\n",
       "      <td>HONOLULU INTL ARPT</td>\n",
       "      <td>HI</td>\n",
       "      <td>TAKEOFF RUN</td>\n",
       "      <td>NIGHT</td>\n",
       "      <td>0.0</td>\n",
       "      <td>NaN</td>\n",
       "      <td>0.0</td>\n",
       "      <td>N5122</td>\n",
       "      <td>PACIFIC GOLDEN-PLOVER</td>\n",
       "      <td>1</td>\n",
       "      <td>NONE</td>\n",
       "      <td>2010-01-01</td>\n",
       "    </tr>\n",
       "    <tr>\n",
       "      <th>106757</th>\n",
       "      <td>2010</td>\n",
       "      <td>1</td>\n",
       "      <td>1</td>\n",
       "      <td>DAL</td>\n",
       "      <td>DELTA AIR LINES</td>\n",
       "      <td>B-737-800</td>\n",
       "      <td>KMIA</td>\n",
       "      <td>MIAMI INTL</td>\n",
       "      <td>FL</td>\n",
       "      <td>LANDING ROLL</td>\n",
       "      <td>DAY</td>\n",
       "      <td>0.0</td>\n",
       "      <td>NaN</td>\n",
       "      <td>0.0</td>\n",
       "      <td>N5111</td>\n",
       "      <td>KILLDEER</td>\n",
       "      <td>2-10</td>\n",
       "      <td>NONE</td>\n",
       "      <td>2010-01-01</td>\n",
       "    </tr>\n",
       "    <tr>\n",
       "      <th>106758</th>\n",
       "      <td>2010</td>\n",
       "      <td>1</td>\n",
       "      <td>1</td>\n",
       "      <td>AAL</td>\n",
       "      <td>AMERICAN AIRLINES</td>\n",
       "      <td>MD-82</td>\n",
       "      <td>KDFW</td>\n",
       "      <td>DALLAS/FORT WORTH INTL ARPT</td>\n",
       "      <td>TX</td>\n",
       "      <td>CLIMB</td>\n",
       "      <td>DAY</td>\n",
       "      <td>800.0</td>\n",
       "      <td>160.0</td>\n",
       "      <td>NaN</td>\n",
       "      <td>H4105</td>\n",
       "      <td>DOUBLE-CRESTED CORMORANT</td>\n",
       "      <td>2-10</td>\n",
       "      <td>NONE</td>\n",
       "      <td>2010-01-01</td>\n",
       "    </tr>\n",
       "  </tbody>\n",
       "</table>\n",
       "</div>"
      ],
      "text/plain": [
       "        Incident Year  Incident Month  Incident Day Operator ID  \\\n",
       "106753           2010               1             1         BUS   \n",
       "106754           2010               1             1         JBU   \n",
       "106756           2010               1             1         WJA   \n",
       "106757           2010               1             1         DAL   \n",
       "106758           2010               1             1         AAL   \n",
       "\n",
       "                 Operator   Aircraft Airport ID                      Airport  \\\n",
       "106753           BUSINESS      C-310       KPMP        POMPANO BEACH AIRPARK   \n",
       "106754    JETBLUE AIRWAYS      A-320       KMCO                 ORLANDO INTL   \n",
       "106756            WESTJET  B-737-800       PHNL           HONOLULU INTL ARPT   \n",
       "106757    DELTA AIR LINES  B-737-800       KMIA                   MIAMI INTL   \n",
       "106758  AMERICAN AIRLINES      MD-82       KDFW  DALLAS/FORT WORTH INTL ARPT   \n",
       "\n",
       "       State  Flight Phase Visibility  Height  Speed  Distance Species ID  \\\n",
       "106753    FL   TAKEOFF RUN        DAY     0.0   30.0       0.0        NE1   \n",
       "106754    FL   TAKEOFF RUN        DAY     0.0  120.0       0.0        ZT3   \n",
       "106756    HI   TAKEOFF RUN      NIGHT     0.0    NaN       0.0      N5122   \n",
       "106757    FL  LANDING ROLL        DAY     0.0    NaN       0.0      N5111   \n",
       "106758    TX         CLIMB        DAY   800.0  160.0       NaN      H4105   \n",
       "\n",
       "                    Species Name Species Quantity    Flight Impact  \\\n",
       "106753                      GULL                1  ABORTED TAKEOFF   \n",
       "106754                   GRACKLE                1             NONE   \n",
       "106756     PACIFIC GOLDEN-PLOVER                1             NONE   \n",
       "106757                  KILLDEER             2-10             NONE   \n",
       "106758  DOUBLE-CRESTED CORMORANT             2-10             NONE   \n",
       "\n",
       "       incident_date  \n",
       "106753    2010-01-01  \n",
       "106754    2010-01-01  \n",
       "106756    2010-01-01  \n",
       "106757    2010-01-01  \n",
       "106758    2010-01-01  "
      ]
     },
     "execution_count": 82,
     "metadata": {},
     "output_type": "execute_result"
    }
   ],
   "source": [
    "df_cleaned.head()"
   ]
  },
  {
   "cell_type": "markdown",
   "metadata": {},
   "source": [
    "## Exploratory Data Analysis"
   ]
  },
  {
   "cell_type": "markdown",
   "metadata": {},
   "source": [
    "First, we want to see in which Airline operator the most of the birdstrikes occured"
   ]
  },
  {
   "cell_type": "code",
   "execution_count": 92,
   "metadata": {},
   "outputs": [
    {
     "data": {
      "text/plain": [
       "SOUTHWEST AIRLINES    5343\n",
       "BUSINESS              3580\n",
       "AMERICAN AIRLINES     2365\n",
       "FEDEX EXPRESS         1840\n",
       "DELTA AIR LINES       1618\n",
       "US AIRWAYS            1296\n",
       "UPS AIRLINES          1162\n",
       "SKYWEST AIRLINES      1087\n",
       "UNITED AIRLINES       1074\n",
       "JETBLUE AIRWAYS       1039\n",
       "Name: Operator, dtype: int64"
      ]
     },
     "execution_count": 92,
     "metadata": {},
     "output_type": "execute_result"
    }
   ],
   "source": [
    "df_cleaned[\"Operator\"].value_counts().head(10)"
   ]
  },
  {
   "cell_type": "code",
   "execution_count": 93,
   "metadata": {},
   "outputs": [],
   "source": [
    "# Get the numnber of occurances of each operator\n",
    "operator_counts = df_cleaned.Operator.value_counts()\n",
    "\n",
    "# Split and Save the Operator names in a variable\n",
    "operators = operator_counts.index\n",
    "\n",
    "# Split and Save the counts in another variable\n",
    "counts = operator_counts.values"
   ]
  },
  {
   "cell_type": "code",
   "execution_count": 94,
   "metadata": {},
   "outputs": [
    {
     "data": {
      "image/png": "[encoded data removed]",
      "text/plain": [
       "<Figure size 432x288 with 1 Axes>"
      ]
     },
     "metadata": {
      "needs_background": "light"
     },
     "output_type": "display_data"
    }
   ],
   "source": [
    "# Create barplot object\n",
    "plt.xticks(rotation=90)\n",
    "\n",
    "# Add the x-axis title\n",
    "plt.xlabel(\"Airline operators\", fontsize=15)\n",
    "\n",
    "# Add the y-axis title\n",
    "plt.ylabel(\"Number of birdstrikes\", fontsize=15)\n",
    "\n",
    "# Add the plot title\n",
    "plt.title(\"Birdstrikes per Airline Operator\", fontsize=20)\n",
    "\n",
    "# Create the plot\n",
    "barplot = sns.barplot(x=operators[:10], y=counts[:10])"
   ]
  },
  {
   "cell_type": "markdown",
   "metadata": {},
   "source": [
    "This plot shows the top Airline operators"
   ]
  },
  {
   "cell_type": "markdown",
   "metadata": {},
   "source": [
    "Now we want to see how the number of incidents changed over the years (2010 - 2015)"
   ]
  },
  {
   "cell_type": "code",
   "execution_count": 96,
   "metadata": {},
   "outputs": [
    {
     "data": {
      "image/png": "[encoded data removed]",
      "text/plain": [
       "<Figure size 432x288 with 1 Axes>"
      ]
     },
     "metadata": {
      "needs_background": "light"
     },
     "output_type": "display_data"
    }
   ],
   "source": [
    "# Add the x-axis title\n",
    "plt.xlabel(\"Incident Year\",  fontsize=15)\n",
    "\n",
    "# Add the y-axis title\n",
    "plt.ylabel(\"Number of birdstrikes\", fontsize=15)\n",
    "\n",
    "# Add the plot title\n",
    "plt.title(\"Incidents over years\", fontsize=20)\n",
    "\n",
    "# Create the plot\n",
    "barplot = sns.lineplot(data=df_cleaned.groupby('Incident Year').size())"
   ]
  },
  {
   "cell_type": "markdown",
   "metadata": {},
   "source": [
    "This plot shows that in 2014 it was a peak. But we can not say birdstrikes dropped in 2015, we simply do not have data for the following years. "
   ]
  },
  {
   "cell_type": "markdown",
   "metadata": {},
   "source": [
    "According to the existing statistics, most collisions between birds and aircraft occur during seasonal bird migration periods and over the territories of migratory flights. [Source](https://www.researchgate.net/publication/228438745_Global_climate_change_bird_migration_and_bird_strike_problems)"
   ]
  },
  {
   "cell_type": "markdown",
   "metadata": {},
   "source": [
    "Let's check this fact with our dataset. "
   ]
  },
  {
   "cell_type": "code",
   "execution_count": 99,
   "metadata": {},
   "outputs": [
    {
     "data": {
      "text/plain": [
       "<matplotlib.axes._subplots.AxesSubplot at 0x1b1d8413b80>"
      ]
     },
     "execution_count": 99,
     "metadata": {},
     "output_type": "execute_result"
    },
    {
     "data": {
      "image/png": "[encoded data removed]",
      "text/plain": [
       "<Figure size 432x288 with 1 Axes>"
      ]
     },
     "metadata": {
      "needs_background": "light"
     },
     "output_type": "display_data"
    }
   ],
   "source": [
    "# Add the x-axis title\n",
    "plt.xlabel(\"Incident Month\",  fontsize=15)\n",
    "\n",
    "# Add the y-axis title\n",
    "plt.ylabel(\"Number of birdstrikes\", fontsize=15)\n",
    "\n",
    "# Add the plot title\n",
    "plt.title(\"Incidents over months\", fontsize=20)\n",
    "\n",
    "df_cleaned.groupby('Incident Month').size().plot()"
   ]
  },
  {
   "cell_type": "markdown",
   "metadata": {},
   "source": [
    "We can see relatively high number of birdstrikes in the months between 6 and 9 - June and September. Indeed, this is bird migration period in North America. [Source](https://www.perkypet.com/advice/bird-watching/bird-migration-facts/timing)"
   ]
  },
  {
   "cell_type": "markdown",
   "metadata": {},
   "source": [
    "According to Wikipedia, the majority of bird collisions occur near or at airports (90%, according to the ICAO) during takeoff, landing and associated phases"
   ]
  },
  {
   "cell_type": "code",
   "execution_count": 107,
   "metadata": {},
   "outputs": [],
   "source": [
    "phases = df_cleaned.groupby('Flight Phase').size().sort_values(ascending=False)"
   ]
  },
  {
   "cell_type": "code",
   "execution_count": 109,
   "metadata": {},
   "outputs": [
    {
     "data": {
      "text/html": [
       "<div>\n",
       "<style scoped>\n",
       "    .dataframe tbody tr th:only-of-type {\n",
       "        vertical-align: middle;\n",
       "    }\n",
       "\n",
       "    .dataframe tbody tr th {\n",
       "        vertical-align: top;\n",
       "    }\n",
       "\n",
       "    .dataframe thead th {\n",
       "        text-align: right;\n",
       "    }\n",
       "</style>\n",
       "<table border=\"1\" class=\"dataframe\">\n",
       "  <thead>\n",
       "    <tr style=\"text-align: right;\">\n",
       "      <th></th>\n",
       "      <th>0</th>\n",
       "    </tr>\n",
       "    <tr>\n",
       "      <th>Flight Phase</th>\n",
       "      <th></th>\n",
       "    </tr>\n",
       "  </thead>\n",
       "  <tbody>\n",
       "    <tr>\n",
       "      <th>APPROACH</th>\n",
       "      <td>13079</td>\n",
       "    </tr>\n",
       "    <tr>\n",
       "      <th>LANDING ROLL</th>\n",
       "      <td>6718</td>\n",
       "    </tr>\n",
       "    <tr>\n",
       "      <th>TAKEOFF RUN</th>\n",
       "      <td>5946</td>\n",
       "    </tr>\n",
       "    <tr>\n",
       "      <th>CLIMB</th>\n",
       "      <td>4669</td>\n",
       "    </tr>\n",
       "    <tr>\n",
       "      <th>DESCENT</th>\n",
       "      <td>460</td>\n",
       "    </tr>\n",
       "    <tr>\n",
       "      <th>TAXI</th>\n",
       "      <td>108</td>\n",
       "    </tr>\n",
       "    <tr>\n",
       "      <th>LOCAL</th>\n",
       "      <td>42</td>\n",
       "    </tr>\n",
       "    <tr>\n",
       "      <th>PARKED</th>\n",
       "      <td>25</td>\n",
       "    </tr>\n",
       "    <tr>\n",
       "      <th>DEPARTURE</th>\n",
       "      <td>14</td>\n",
       "    </tr>\n",
       "    <tr>\n",
       "      <th>ARRIVAL</th>\n",
       "      <td>2</td>\n",
       "    </tr>\n",
       "  </tbody>\n",
       "</table>\n",
       "</div>"
      ],
      "text/plain": [
       "                  0\n",
       "Flight Phase       \n",
       "APPROACH      13079\n",
       "LANDING ROLL   6718\n",
       "TAKEOFF RUN    5946\n",
       "CLIMB          4669\n",
       "DESCENT         460\n",
       "TAXI            108\n",
       "LOCAL            42\n",
       "PARKED           25\n",
       "DEPARTURE        14\n",
       "ARRIVAL           2"
      ]
     },
     "execution_count": 109,
     "metadata": {},
     "output_type": "execute_result"
    }
   ],
   "source": [
    "phases_df "
   ]
  },
  {
   "cell_type": "markdown",
   "metadata": {},
   "source": [
    "This list shows the number of birdstrikes happened in each phase"
   ]
  },
  {
   "cell_type": "markdown",
   "metadata": {},
   "source": [
    "For the purpose of more clear illustration, we had to drop some less occured phases"
   ]
  },
  {
   "cell_type": "code",
   "execution_count": 110,
   "metadata": {},
   "outputs": [],
   "source": [
    "phases_df = phases.to_frame().drop(index = ['PARKED', 'LOCAL', 'DEPARTURE','TAXI'])"
   ]
  },
  {
   "cell_type": "code",
   "execution_count": 111,
   "metadata": {},
   "outputs": [
    {
     "name": "stderr",
     "output_type": "stream",
     "text": [
      "<ipython-input-111-6f9a941a8d5f>:2: MatplotlibDeprecationWarning: Non-1D inputs to pie() are currently squeeze()d, but this behavior is deprecated since 3.1 and will be removed in 3.3; pass a 1D array instead.\n",
      "  plt.pie(phases_df,labels=my_labels, autopct='%1.1f%%')\n"
     ]
    },
    {
     "data": {
      "image/png": "[encoded data removed]",
      "text/plain": [
       "<Figure size 432x288 with 1 Axes>"
      ]
     },
     "metadata": {},
     "output_type": "display_data"
    }
   ],
   "source": [
    "my_labels = list(phases_df.index)\n",
    "plt.pie(phases_df,labels=my_labels, autopct='%1.1f%%')\n",
    "plt.title('Flight phases')\n",
    "plt.axis('equal')\n",
    "plt.show()"
   ]
  },
  {
   "cell_type": "markdown",
   "metadata": {},
   "source": [
    "Mostly, birdstrikes occured when the aircraft was in Approach, Takeoff, and Landing flight phase"
   ]
  },
  {
   "cell_type": "markdown",
   "metadata": {},
   "source": [
    "Now let's see in which state most of the birdstikes occured"
   ]
  },
  {
   "cell_type": "code",
   "execution_count": 112,
   "metadata": {},
   "outputs": [],
   "source": [
    "state_counts = df_cleaned['State'].value_counts()\n",
    "states = state_counts.index\n",
    "counts = state_counts.values"
   ]
  },
  {
   "cell_type": "code",
   "execution_count": 113,
   "metadata": {},
   "outputs": [
    {
     "data": {
      "image/png": "[encoded data removed]",
      "text/plain": [
       "<Figure size 432x288 with 1 Axes>"
      ]
     },
     "metadata": {
      "needs_background": "light"
     },
     "output_type": "display_data"
    }
   ],
   "source": [
    "plt.xlabel(\"States\", fontsize=15)\n",
    "plt.ylabel(\"Number of birdstrikes\", fontsize=15)\n",
    "plt.title(\"Birdstrikes per State \", fontsize=20)\n",
    "barplot = sns.barplot(x=states[:10], y=counts[:10])"
   ]
  },
  {
   "cell_type": "markdown",
   "metadata": {},
   "source": [
    "The plot shows the number of birdstikes on y axis and State code on x axis. We can see that Texas, California, Florida are the states where the most of birdstrikes occured"
   ]
  },
  {
   "cell_type": "markdown",
   "metadata": {},
   "source": [
    "Nearly half of the birdstrikes (>12000) occured in 0 height"
   ]
  },
  {
   "cell_type": "code",
   "execution_count": 125,
   "metadata": {},
   "outputs": [],
   "source": [
    "height_counts = df_cleaned['Height'].value_counts().sort_values(ascending=False)\n",
    "heights = height_counts.index\n",
    "h_counts = height_counts.values"
   ]
  },
  {
   "cell_type": "code",
   "execution_count": 127,
   "metadata": {},
   "outputs": [
    {
     "data": {
      "image/png": "[encoded data removed]",
      "text/plain": [
       "<Figure size 432x288 with 1 Axes>"
      ]
     },
     "metadata": {
      "needs_background": "light"
     },
     "output_type": "display_data"
    }
   ],
   "source": [
    "plt.xlabel(\"Height\", fontsize=15)\n",
    "plt.ylabel(\"Number of birdstrikes\", fontsize=15)\n",
    "plt.title(\"Birdstrikes per Height \", fontsize=20)\n",
    "barplot = sns.barplot(x=heights[:10], y=h_counts[:10])"
   ]
  },
  {
   "cell_type": "markdown",
   "metadata": {},
   "source": [
    "Top species (birds)"
   ]
  },
  {
   "cell_type": "code",
   "execution_count": 129,
   "metadata": {},
   "outputs": [],
   "source": [
    "bird_counts = df_cleaned.groupby('Species Name').size().sort_values(ascending=False)\n",
    "birds = bird_counts.index\n",
    "b_counts = bird_counts.values "
   ]
  },
  {
   "cell_type": "code",
   "execution_count": 135,
   "metadata": {},
   "outputs": [
    {
     "data": {
      "image/png": "[encoded data removed]",
      "text/plain": [
       "<Figure size 432x288 with 1 Axes>"
      ]
     },
     "metadata": {
      "needs_background": "light"
     },
     "output_type": "display_data"
    }
   ],
   "source": [
    "plt.xlabel(\"Birds\", fontsize=15)\n",
    "plt.ylabel(\"Number of birdstrikes\", fontsize=15)\n",
    "plt.title(\"Birdstrikes per bird type \", fontsize=20)\n",
    "plt.xticks(rotation=80)\n",
    "barplot = sns.barplot(x=birds[:10], y=counts[:10])"
   ]
  },
  {
   "cell_type": "markdown",
   "metadata": {},
   "source": [
    "According to *skybrary*, around 90% of recorded bird strikes occur during daylight, but since this is also when most aircraft fly, strike rates can sometimes actually be higher at night. Source: https://www.skybrary.aero/index.php/Bird_Behaviour"
   ]
  },
  {
   "cell_type": "markdown",
   "metadata": {},
   "source": [
    "Let's check this fact with our dataset. We can see that indeed most of the (63%) birdstrikes occured during the day."
   ]
  },
  {
   "cell_type": "code",
   "execution_count": 90,
   "metadata": {},
   "outputs": [],
   "source": [
    "visibilities = df_cleaned.groupby('Visibility').size().sort_values(ascending=False)\n",
    "visibilities_df = visibilities.to_frame()"
   ]
  },
  {
   "cell_type": "code",
   "execution_count": 91,
   "metadata": {},
   "outputs": [
    {
     "name": "stderr",
     "output_type": "stream",
     "text": [
      "<ipython-input-91-1fc36328c86a>:2: MatplotlibDeprecationWarning: Non-1D inputs to pie() are currently squeeze()d, but this behavior is deprecated since 3.1 and will be removed in 3.3; pass a 1D array instead.\n",
      "  plt.pie(visibilities_df,labels=my_labels, autopct='%1.1f%%')\n"
     ]
    },
    {
     "data": {
      "image/png": "[encoded data removed]",
      "text/plain": [
       "<Figure size 432x288 with 1 Axes>"
      ]
     },
     "metadata": {},
     "output_type": "display_data"
    }
   ],
   "source": [
    "my_labels = list(visibilities_df.index)\n",
    "plt.pie(visibilities_df,labels=my_labels, autopct='%1.1f%%')\n",
    "plt.title('Visibility')\n",
    "plt.axis('equal')\n",
    "plt.show()"
   ]
  },
  {
   "cell_type": "markdown",
   "metadata": {},
   "source": [
    "## Save files to excel"
   ]
  },
  {
   "cell_type": "markdown",
   "metadata": {},
   "source": [
    "We are saving cleaned dataframe as CSV"
   ]
  },
  {
   "cell_type": "code",
   "execution_count": 140,
   "metadata": {},
   "outputs": [],
   "source": [
    "airport_counts = df_cleaned['Airport ID'].value_counts()\n",
    "airport_counts = df_cleaned.groupby('Airport ID').size().sort_values(ascending=False)[airport_counts > 100]\n",
    "\n",
    "df_airports = pd.DataFrame({'Airport ID':airport_counts.index, 'Birdstrikes_N':airport_counts.values})"
   ]
  },
  {
   "cell_type": "code",
   "execution_count": 141,
   "metadata": {},
   "outputs": [],
   "source": [
    "df_airports.to_csv('airports.csv', index = False)"
   ]
  },
  {
   "cell_type": "code",
   "execution_count": 142,
   "metadata": {},
   "outputs": [],
   "source": [
    "df_cleaned = df_cleaned.reset_index()\n",
    "df_cleaned = df_cleaned.drop(columns = ['index'])"
   ]
  },
  {
   "cell_type": "code",
   "execution_count": 143,
   "metadata": {},
   "outputs": [],
   "source": [
    "df_cleaned.to_csv('df_cleaned.csv', index = False)"
   ]
  },
  {
   "cell_type": "code",
   "execution_count": 144,
   "metadata": {},
   "outputs": [
    {
     "data": {
      "text/html": [
       "<div>\n",
       "<style scoped>\n",
       "    .dataframe tbody tr th:only-of-type {\n",
       "        vertical-align: middle;\n",
       "    }\n",
       "\n",
       "    .dataframe tbody tr th {\n",
       "        vertical-align: top;\n",
       "    }\n",
       "\n",
       "    .dataframe thead th {\n",
       "        text-align: right;\n",
       "    }\n",
       "</style>\n",
       "<table border=\"1\" class=\"dataframe\">\n",
       "  <thead>\n",
       "    <tr style=\"text-align: right;\">\n",
       "      <th></th>\n",
       "      <th>Incident Year</th>\n",
       "      <th>Incident Month</th>\n",
       "      <th>Incident Day</th>\n",
       "      <th>Operator ID</th>\n",
       "      <th>Operator</th>\n",
       "      <th>Aircraft</th>\n",
       "      <th>Airport ID</th>\n",
       "      <th>Airport</th>\n",
       "      <th>State</th>\n",
       "      <th>Flight Phase</th>\n",
       "      <th>Visibility</th>\n",
       "      <th>Height</th>\n",
       "      <th>Speed</th>\n",
       "      <th>Distance</th>\n",
       "      <th>Species ID</th>\n",
       "      <th>Species Name</th>\n",
       "      <th>Species Quantity</th>\n",
       "      <th>Flight Impact</th>\n",
       "      <th>incident_date</th>\n",
       "    </tr>\n",
       "  </thead>\n",
       "  <tbody>\n",
       "    <tr>\n",
       "      <th>0</th>\n",
       "      <td>2010</td>\n",
       "      <td>1</td>\n",
       "      <td>1</td>\n",
       "      <td>BUS</td>\n",
       "      <td>BUSINESS</td>\n",
       "      <td>C-310</td>\n",
       "      <td>KPMP</td>\n",
       "      <td>POMPANO BEACH AIRPARK</td>\n",
       "      <td>FL</td>\n",
       "      <td>TAKEOFF RUN</td>\n",
       "      <td>DAY</td>\n",
       "      <td>0.0</td>\n",
       "      <td>30.0</td>\n",
       "      <td>0.0</td>\n",
       "      <td>NE1</td>\n",
       "      <td>GULL</td>\n",
       "      <td>1</td>\n",
       "      <td>ABORTED TAKEOFF</td>\n",
       "      <td>2010-01-01</td>\n",
       "    </tr>\n",
       "    <tr>\n",
       "      <th>1</th>\n",
       "      <td>2010</td>\n",
       "      <td>1</td>\n",
       "      <td>1</td>\n",
       "      <td>JBU</td>\n",
       "      <td>JETBLUE AIRWAYS</td>\n",
       "      <td>A-320</td>\n",
       "      <td>KMCO</td>\n",
       "      <td>ORLANDO INTL</td>\n",
       "      <td>FL</td>\n",
       "      <td>TAKEOFF RUN</td>\n",
       "      <td>DAY</td>\n",
       "      <td>0.0</td>\n",
       "      <td>120.0</td>\n",
       "      <td>0.0</td>\n",
       "      <td>ZT3</td>\n",
       "      <td>GRACKLE</td>\n",
       "      <td>1</td>\n",
       "      <td>NONE</td>\n",
       "      <td>2010-01-01</td>\n",
       "    </tr>\n",
       "    <tr>\n",
       "      <th>2</th>\n",
       "      <td>2010</td>\n",
       "      <td>1</td>\n",
       "      <td>1</td>\n",
       "      <td>WJA</td>\n",
       "      <td>WESTJET</td>\n",
       "      <td>B-737-800</td>\n",
       "      <td>PHNL</td>\n",
       "      <td>HONOLULU INTL ARPT</td>\n",
       "      <td>HI</td>\n",
       "      <td>TAKEOFF RUN</td>\n",
       "      <td>NIGHT</td>\n",
       "      <td>0.0</td>\n",
       "      <td>NaN</td>\n",
       "      <td>0.0</td>\n",
       "      <td>N5122</td>\n",
       "      <td>PACIFIC GOLDEN-PLOVER</td>\n",
       "      <td>1</td>\n",
       "      <td>NONE</td>\n",
       "      <td>2010-01-01</td>\n",
       "    </tr>\n",
       "    <tr>\n",
       "      <th>3</th>\n",
       "      <td>2010</td>\n",
       "      <td>1</td>\n",
       "      <td>1</td>\n",
       "      <td>DAL</td>\n",
       "      <td>DELTA AIR LINES</td>\n",
       "      <td>B-737-800</td>\n",
       "      <td>KMIA</td>\n",
       "      <td>MIAMI INTL</td>\n",
       "      <td>FL</td>\n",
       "      <td>LANDING ROLL</td>\n",
       "      <td>DAY</td>\n",
       "      <td>0.0</td>\n",
       "      <td>NaN</td>\n",
       "      <td>0.0</td>\n",
       "      <td>N5111</td>\n",
       "      <td>KILLDEER</td>\n",
       "      <td>2-10</td>\n",
       "      <td>NONE</td>\n",
       "      <td>2010-01-01</td>\n",
       "    </tr>\n",
       "    <tr>\n",
       "      <th>4</th>\n",
       "      <td>2010</td>\n",
       "      <td>1</td>\n",
       "      <td>1</td>\n",
       "      <td>AAL</td>\n",
       "      <td>AMERICAN AIRLINES</td>\n",
       "      <td>MD-82</td>\n",
       "      <td>KDFW</td>\n",
       "      <td>DALLAS/FORT WORTH INTL ARPT</td>\n",
       "      <td>TX</td>\n",
       "      <td>CLIMB</td>\n",
       "      <td>DAY</td>\n",
       "      <td>800.0</td>\n",
       "      <td>160.0</td>\n",
       "      <td>NaN</td>\n",
       "      <td>H4105</td>\n",
       "      <td>DOUBLE-CRESTED CORMORANT</td>\n",
       "      <td>2-10</td>\n",
       "      <td>NONE</td>\n",
       "      <td>2010-01-01</td>\n",
       "    </tr>\n",
       "  </tbody>\n",
       "</table>\n",
       "</div>"
      ],
      "text/plain": [
       "   Incident Year  Incident Month  Incident Day Operator ID           Operator  \\\n",
       "0           2010               1             1         BUS           BUSINESS   \n",
       "1           2010               1             1         JBU    JETBLUE AIRWAYS   \n",
       "2           2010               1             1         WJA            WESTJET   \n",
       "3           2010               1             1         DAL    DELTA AIR LINES   \n",
       "4           2010               1             1         AAL  AMERICAN AIRLINES   \n",
       "\n",
       "    Aircraft Airport ID                      Airport State  Flight Phase  \\\n",
       "0      C-310       KPMP        POMPANO BEACH AIRPARK    FL   TAKEOFF RUN   \n",
       "1      A-320       KMCO                 ORLANDO INTL    FL   TAKEOFF RUN   \n",
       "2  B-737-800       PHNL           HONOLULU INTL ARPT    HI   TAKEOFF RUN   \n",
       "3  B-737-800       KMIA                   MIAMI INTL    FL  LANDING ROLL   \n",
       "4      MD-82       KDFW  DALLAS/FORT WORTH INTL ARPT    TX         CLIMB   \n",
       "\n",
       "  Visibility  Height  Speed  Distance Species ID              Species Name  \\\n",
       "0        DAY     0.0   30.0       0.0        NE1                      GULL   \n",
       "1        DAY     0.0  120.0       0.0        ZT3                   GRACKLE   \n",
       "2      NIGHT     0.0    NaN       0.0      N5122     PACIFIC GOLDEN-PLOVER   \n",
       "3        DAY     0.0    NaN       0.0      N5111                  KILLDEER   \n",
       "4        DAY   800.0  160.0       NaN      H4105  DOUBLE-CRESTED CORMORANT   \n",
       "\n",
       "  Species Quantity    Flight Impact incident_date  \n",
       "0                1  ABORTED TAKEOFF    2010-01-01  \n",
       "1                1             NONE    2010-01-01  \n",
       "2                1             NONE    2010-01-01  \n",
       "3             2-10             NONE    2010-01-01  \n",
       "4             2-10             NONE    2010-01-01  "
      ]
     },
     "execution_count": 144,
     "metadata": {},
     "output_type": "execute_result"
    }
   ],
   "source": [
    "df_cleaned.head()"
   ]
  }
 ],
 "metadata": {
  "kernelspec": {
   "display_name": "Python 3",
   "language": "python",
   "name": "python3"
  },
  "language_info": {
   "codemirror_mode": {
    "name": "ipython",
    "version": 3
   },
   "file_extension": ".py",
   "mimetype": "text/x-python",
   "name": "python",
   "nbconvert_exporter": "python",
   "pygments_lexer": "ipython3",
   "version": "3.8.3"
  }
 },
 "nbformat": 4,
 "nbformat_minor": 4
}
