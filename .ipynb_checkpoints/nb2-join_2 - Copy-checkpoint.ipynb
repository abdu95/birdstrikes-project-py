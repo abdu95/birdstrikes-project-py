{
 "cells": [
  {
   "cell_type": "code",
   "execution_count": 1,
   "metadata": {},
   "outputs": [],
   "source": [
    "import pandas as pd\n",
    "import numpy as np\n",
    "\n",
    "import requests\n",
    "import json\n",
    "from datetime import datetime"
   ]
  },
  {
   "cell_type": "markdown",
   "metadata": {},
   "source": [
    "**Import df_cleaned.csv**"
   ]
  },
  {
   "cell_type": "code",
   "execution_count": 3,
   "metadata": {},
   "outputs": [],
   "source": [
    "df_cleaned = pd.read_csv('df_cleaned.csv')"
   ]
  },
  {
   "cell_type": "code",
   "execution_count": 4,
   "metadata": {},
   "outputs": [
    {
     "data": {
      "text/plain": [
       "11675"
      ]
     },
     "execution_count": 4,
     "metadata": {},
     "output_type": "execute_result"
    }
   ],
   "source": [
    "len(df_cleaned)"
   ]
  },
  {
   "cell_type": "code",
   "execution_count": 5,
   "metadata": {},
   "outputs": [
    {
     "data": {
      "text/html": [
       "<div>\n",
       "<style scoped>\n",
       "    .dataframe tbody tr th:only-of-type {\n",
       "        vertical-align: middle;\n",
       "    }\n",
       "\n",
       "    .dataframe tbody tr th {\n",
       "        vertical-align: top;\n",
       "    }\n",
       "\n",
       "    .dataframe thead th {\n",
       "        text-align: right;\n",
       "    }\n",
       "</style>\n",
       "<table border=\"1\" class=\"dataframe\">\n",
       "  <thead>\n",
       "    <tr style=\"text-align: right;\">\n",
       "      <th></th>\n",
       "      <th>Unnamed: 0</th>\n",
       "      <th>Record ID</th>\n",
       "      <th>Incident Year</th>\n",
       "      <th>Incident Month</th>\n",
       "      <th>Incident Day</th>\n",
       "      <th>Operator ID</th>\n",
       "      <th>Operator</th>\n",
       "      <th>Aircraft</th>\n",
       "      <th>Aircraft Type</th>\n",
       "      <th>Aircraft Make</th>\n",
       "      <th>...</th>\n",
       "      <th>Flight Phase</th>\n",
       "      <th>Visibility</th>\n",
       "      <th>Precipitation</th>\n",
       "      <th>Height</th>\n",
       "      <th>Speed</th>\n",
       "      <th>Distance</th>\n",
       "      <th>Species ID</th>\n",
       "      <th>Species Name</th>\n",
       "      <th>Species Quantity</th>\n",
       "      <th>Flight Impact</th>\n",
       "    </tr>\n",
       "  </thead>\n",
       "  <tbody>\n",
       "    <tr>\n",
       "      <th>0</th>\n",
       "      <td>106753</td>\n",
       "      <td>300045</td>\n",
       "      <td>2010</td>\n",
       "      <td>1</td>\n",
       "      <td>1</td>\n",
       "      <td>BUS</td>\n",
       "      <td>BUSINESS</td>\n",
       "      <td>C-310</td>\n",
       "      <td>A</td>\n",
       "      <td>226</td>\n",
       "      <td>...</td>\n",
       "      <td>TAKEOFF RUN</td>\n",
       "      <td>DAY</td>\n",
       "      <td>NONE</td>\n",
       "      <td>0.0</td>\n",
       "      <td>30.0</td>\n",
       "      <td>0.0</td>\n",
       "      <td>NE1</td>\n",
       "      <td>GULL</td>\n",
       "      <td>1</td>\n",
       "      <td>ABORTED TAKEOFF</td>\n",
       "    </tr>\n",
       "    <tr>\n",
       "      <th>1</th>\n",
       "      <td>106754</td>\n",
       "      <td>300390</td>\n",
       "      <td>2010</td>\n",
       "      <td>1</td>\n",
       "      <td>1</td>\n",
       "      <td>JBU</td>\n",
       "      <td>JETBLUE AIRWAYS</td>\n",
       "      <td>A-320</td>\n",
       "      <td>A</td>\n",
       "      <td>04A</td>\n",
       "      <td>...</td>\n",
       "      <td>TAKEOFF RUN</td>\n",
       "      <td>DAY</td>\n",
       "      <td>RAIN</td>\n",
       "      <td>0.0</td>\n",
       "      <td>120.0</td>\n",
       "      <td>0.0</td>\n",
       "      <td>ZT3</td>\n",
       "      <td>GRACKLE</td>\n",
       "      <td>1</td>\n",
       "      <td>NONE</td>\n",
       "    </tr>\n",
       "    <tr>\n",
       "      <th>2</th>\n",
       "      <td>106764</td>\n",
       "      <td>300701</td>\n",
       "      <td>2010</td>\n",
       "      <td>1</td>\n",
       "      <td>2</td>\n",
       "      <td>SKW</td>\n",
       "      <td>SKYWEST AIRLINES</td>\n",
       "      <td>CRJ100/200</td>\n",
       "      <td>A</td>\n",
       "      <td>188</td>\n",
       "      <td>...</td>\n",
       "      <td>LANDING ROLL</td>\n",
       "      <td>DAY</td>\n",
       "      <td>NONE</td>\n",
       "      <td>0.0</td>\n",
       "      <td>80.0</td>\n",
       "      <td>0.0</td>\n",
       "      <td>YH004</td>\n",
       "      <td>HORNED LARK</td>\n",
       "      <td>1</td>\n",
       "      <td>NONE</td>\n",
       "    </tr>\n",
       "    <tr>\n",
       "      <th>3</th>\n",
       "      <td>106765</td>\n",
       "      <td>300186</td>\n",
       "      <td>2010</td>\n",
       "      <td>1</td>\n",
       "      <td>2</td>\n",
       "      <td>NWA</td>\n",
       "      <td>NORTHWEST AIRLINES</td>\n",
       "      <td>DC-9</td>\n",
       "      <td>A</td>\n",
       "      <td>583</td>\n",
       "      <td>...</td>\n",
       "      <td>TAKEOFF RUN</td>\n",
       "      <td>DAY</td>\n",
       "      <td>NONE</td>\n",
       "      <td>0.0</td>\n",
       "      <td>140.0</td>\n",
       "      <td>0.0</td>\n",
       "      <td>K33</td>\n",
       "      <td>HAWK</td>\n",
       "      <td>1</td>\n",
       "      <td>NONE</td>\n",
       "    </tr>\n",
       "    <tr>\n",
       "      <th>4</th>\n",
       "      <td>106769</td>\n",
       "      <td>301152</td>\n",
       "      <td>2010</td>\n",
       "      <td>1</td>\n",
       "      <td>2</td>\n",
       "      <td>JBU</td>\n",
       "      <td>JETBLUE AIRWAYS</td>\n",
       "      <td>A-320</td>\n",
       "      <td>A</td>\n",
       "      <td>04A</td>\n",
       "      <td>...</td>\n",
       "      <td>APPROACH</td>\n",
       "      <td>DAY</td>\n",
       "      <td>NONE</td>\n",
       "      <td>20.0</td>\n",
       "      <td>120.0</td>\n",
       "      <td>0.0</td>\n",
       "      <td>YI010</td>\n",
       "      <td>TREE SWALLOW</td>\n",
       "      <td>1</td>\n",
       "      <td>NONE</td>\n",
       "    </tr>\n",
       "  </tbody>\n",
       "</table>\n",
       "<p>5 rows × 25 columns</p>\n",
       "</div>"
      ],
      "text/plain": [
       "   Unnamed: 0  Record ID  Incident Year  Incident Month  Incident Day  \\\n",
       "0      106753     300045           2010               1             1   \n",
       "1      106754     300390           2010               1             1   \n",
       "2      106764     300701           2010               1             2   \n",
       "3      106765     300186           2010               1             2   \n",
       "4      106769     301152           2010               1             2   \n",
       "\n",
       "  Operator ID            Operator    Aircraft Aircraft Type Aircraft Make  \\\n",
       "0         BUS            BUSINESS       C-310             A           226   \n",
       "1         JBU     JETBLUE AIRWAYS       A-320             A           04A   \n",
       "2         SKW    SKYWEST AIRLINES  CRJ100/200             A           188   \n",
       "3         NWA  NORTHWEST AIRLINES        DC-9             A           583   \n",
       "4         JBU     JETBLUE AIRWAYS       A-320             A           04A   \n",
       "\n",
       "   ...  Flight Phase Visibility Precipitation Height  Speed Distance  \\\n",
       "0  ...   TAKEOFF RUN        DAY          NONE    0.0   30.0      0.0   \n",
       "1  ...   TAKEOFF RUN        DAY          RAIN    0.0  120.0      0.0   \n",
       "2  ...  LANDING ROLL        DAY          NONE    0.0   80.0      0.0   \n",
       "3  ...   TAKEOFF RUN        DAY          NONE    0.0  140.0      0.0   \n",
       "4  ...      APPROACH        DAY          NONE   20.0  120.0      0.0   \n",
       "\n",
       "  Species ID  Species Name  Species Quantity    Flight Impact  \n",
       "0        NE1          GULL                 1  ABORTED TAKEOFF  \n",
       "1        ZT3       GRACKLE                 1             NONE  \n",
       "2      YH004   HORNED LARK                 1             NONE  \n",
       "3        K33          HAWK                 1             NONE  \n",
       "4      YI010  TREE SWALLOW                 1             NONE  \n",
       "\n",
       "[5 rows x 25 columns]"
      ]
     },
     "execution_count": 5,
     "metadata": {},
     "output_type": "execute_result"
    }
   ],
   "source": [
    "df_cleaned.head()"
   ]
  },
  {
   "cell_type": "markdown",
   "metadata": {},
   "source": [
    "**Create birdstrike count for airports and save as csv**"
   ]
  },
  {
   "cell_type": "code",
   "execution_count": 6,
   "metadata": {},
   "outputs": [],
   "source": [
    "airport_counts = df_cleaned.groupby('Airport ID').size().sort_values(ascending=False)\n",
    "df_airports = pd.DataFrame({'Airport ID':airport_counts.index, 'Birdstrikes_N':airport_counts.values})"
   ]
  },
  {
   "cell_type": "code",
   "execution_count": 7,
   "metadata": {},
   "outputs": [
    {
     "data": {
      "text/html": [
       "<div>\n",
       "<style scoped>\n",
       "    .dataframe tbody tr th:only-of-type {\n",
       "        vertical-align: middle;\n",
       "    }\n",
       "\n",
       "    .dataframe tbody tr th {\n",
       "        vertical-align: top;\n",
       "    }\n",
       "\n",
       "    .dataframe thead th {\n",
       "        text-align: right;\n",
       "    }\n",
       "</style>\n",
       "<table border=\"1\" class=\"dataframe\">\n",
       "  <thead>\n",
       "    <tr style=\"text-align: right;\">\n",
       "      <th></th>\n",
       "      <th>Airport ID</th>\n",
       "      <th>Birdstrikes_N</th>\n",
       "    </tr>\n",
       "  </thead>\n",
       "  <tbody>\n",
       "    <tr>\n",
       "      <th>0</th>\n",
       "      <td>KDFW</td>\n",
       "      <td>402</td>\n",
       "    </tr>\n",
       "    <tr>\n",
       "      <th>1</th>\n",
       "      <td>KSMF</td>\n",
       "      <td>337</td>\n",
       "    </tr>\n",
       "    <tr>\n",
       "      <th>2</th>\n",
       "      <td>KDEN</td>\n",
       "      <td>293</td>\n",
       "    </tr>\n",
       "    <tr>\n",
       "      <th>3</th>\n",
       "      <td>KPHL</td>\n",
       "      <td>286</td>\n",
       "    </tr>\n",
       "    <tr>\n",
       "      <th>4</th>\n",
       "      <td>KBNA</td>\n",
       "      <td>258</td>\n",
       "    </tr>\n",
       "  </tbody>\n",
       "</table>\n",
       "</div>"
      ],
      "text/plain": [
       "  Airport ID  Birdstrikes_N\n",
       "0       KDFW            402\n",
       "1       KSMF            337\n",
       "2       KDEN            293\n",
       "3       KPHL            286\n",
       "4       KBNA            258"
      ]
     },
     "execution_count": 7,
     "metadata": {},
     "output_type": "execute_result"
    }
   ],
   "source": [
    "df_airports.head()"
   ]
  },
  {
   "cell_type": "markdown",
   "metadata": {},
   "source": [
    "**Import airport_codes_csv (downloaded from internet)**"
   ]
  },
  {
   "cell_type": "code",
   "execution_count": 8,
   "metadata": {},
   "outputs": [],
   "source": [
    "airport_codes = pd.read_csv('airport-codes_csv.csv')"
   ]
  },
  {
   "cell_type": "code",
   "execution_count": 9,
   "metadata": {},
   "outputs": [
    {
     "data": {
      "text/html": [
       "<div>\n",
       "<style scoped>\n",
       "    .dataframe tbody tr th:only-of-type {\n",
       "        vertical-align: middle;\n",
       "    }\n",
       "\n",
       "    .dataframe tbody tr th {\n",
       "        vertical-align: top;\n",
       "    }\n",
       "\n",
       "    .dataframe thead th {\n",
       "        text-align: right;\n",
       "    }\n",
       "</style>\n",
       "<table border=\"1\" class=\"dataframe\">\n",
       "  <thead>\n",
       "    <tr style=\"text-align: right;\">\n",
       "      <th></th>\n",
       "      <th>ident</th>\n",
       "      <th>type</th>\n",
       "      <th>name</th>\n",
       "      <th>elevation_ft</th>\n",
       "      <th>continent</th>\n",
       "      <th>iso_country</th>\n",
       "      <th>iso_region</th>\n",
       "      <th>municipality</th>\n",
       "      <th>gps_code</th>\n",
       "      <th>iata_code</th>\n",
       "      <th>local_code</th>\n",
       "      <th>coordinates</th>\n",
       "    </tr>\n",
       "  </thead>\n",
       "  <tbody>\n",
       "    <tr>\n",
       "      <th>0</th>\n",
       "      <td>00A</td>\n",
       "      <td>heliport</td>\n",
       "      <td>Total Rf Heliport</td>\n",
       "      <td>11.0</td>\n",
       "      <td>NaN</td>\n",
       "      <td>US</td>\n",
       "      <td>US-PA</td>\n",
       "      <td>Bensalem</td>\n",
       "      <td>00A</td>\n",
       "      <td>NaN</td>\n",
       "      <td>00A</td>\n",
       "      <td>-74.93360137939453, 40.07080078125</td>\n",
       "    </tr>\n",
       "    <tr>\n",
       "      <th>1</th>\n",
       "      <td>00AA</td>\n",
       "      <td>small_airport</td>\n",
       "      <td>Aero B Ranch Airport</td>\n",
       "      <td>3435.0</td>\n",
       "      <td>NaN</td>\n",
       "      <td>US</td>\n",
       "      <td>US-KS</td>\n",
       "      <td>Leoti</td>\n",
       "      <td>00AA</td>\n",
       "      <td>NaN</td>\n",
       "      <td>00AA</td>\n",
       "      <td>-101.473911, 38.704022</td>\n",
       "    </tr>\n",
       "    <tr>\n",
       "      <th>2</th>\n",
       "      <td>00AK</td>\n",
       "      <td>small_airport</td>\n",
       "      <td>Lowell Field</td>\n",
       "      <td>450.0</td>\n",
       "      <td>NaN</td>\n",
       "      <td>US</td>\n",
       "      <td>US-AK</td>\n",
       "      <td>Anchor Point</td>\n",
       "      <td>00AK</td>\n",
       "      <td>NaN</td>\n",
       "      <td>00AK</td>\n",
       "      <td>-151.695999146, 59.94919968</td>\n",
       "    </tr>\n",
       "    <tr>\n",
       "      <th>3</th>\n",
       "      <td>00AL</td>\n",
       "      <td>small_airport</td>\n",
       "      <td>Epps Airpark</td>\n",
       "      <td>820.0</td>\n",
       "      <td>NaN</td>\n",
       "      <td>US</td>\n",
       "      <td>US-AL</td>\n",
       "      <td>Harvest</td>\n",
       "      <td>00AL</td>\n",
       "      <td>NaN</td>\n",
       "      <td>00AL</td>\n",
       "      <td>-86.77030181884766, 34.86479949951172</td>\n",
       "    </tr>\n",
       "    <tr>\n",
       "      <th>4</th>\n",
       "      <td>00AR</td>\n",
       "      <td>closed</td>\n",
       "      <td>Newport Hospital &amp; Clinic Heliport</td>\n",
       "      <td>237.0</td>\n",
       "      <td>NaN</td>\n",
       "      <td>US</td>\n",
       "      <td>US-AR</td>\n",
       "      <td>Newport</td>\n",
       "      <td>NaN</td>\n",
       "      <td>NaN</td>\n",
       "      <td>NaN</td>\n",
       "      <td>-91.254898, 35.6087</td>\n",
       "    </tr>\n",
       "  </tbody>\n",
       "</table>\n",
       "</div>"
      ],
      "text/plain": [
       "  ident           type                                name  elevation_ft  \\\n",
       "0   00A       heliport                   Total Rf Heliport          11.0   \n",
       "1  00AA  small_airport                Aero B Ranch Airport        3435.0   \n",
       "2  00AK  small_airport                        Lowell Field         450.0   \n",
       "3  00AL  small_airport                        Epps Airpark         820.0   \n",
       "4  00AR         closed  Newport Hospital & Clinic Heliport         237.0   \n",
       "\n",
       "  continent iso_country iso_region  municipality gps_code iata_code  \\\n",
       "0       NaN          US      US-PA      Bensalem      00A       NaN   \n",
       "1       NaN          US      US-KS         Leoti     00AA       NaN   \n",
       "2       NaN          US      US-AK  Anchor Point     00AK       NaN   \n",
       "3       NaN          US      US-AL       Harvest     00AL       NaN   \n",
       "4       NaN          US      US-AR       Newport      NaN       NaN   \n",
       "\n",
       "  local_code                            coordinates  \n",
       "0        00A     -74.93360137939453, 40.07080078125  \n",
       "1       00AA                 -101.473911, 38.704022  \n",
       "2       00AK            -151.695999146, 59.94919968  \n",
       "3       00AL  -86.77030181884766, 34.86479949951172  \n",
       "4        NaN                    -91.254898, 35.6087  "
      ]
     },
     "execution_count": 9,
     "metadata": {},
     "output_type": "execute_result"
    }
   ],
   "source": [
    "airport_codes.head()"
   ]
  },
  {
   "cell_type": "code",
   "execution_count": 10,
   "metadata": {},
   "outputs": [],
   "source": [
    "# airport_codes[airport_codes['ident'] == 'KJAX']\n",
    "# name municipality gps_code coordinates"
   ]
  },
  {
   "cell_type": "code",
   "execution_count": 11,
   "metadata": {},
   "outputs": [],
   "source": [
    "#df_merged = pd.merge(airports, airport_codes, how = 'left', left_on = 'Airport ID', right_on = 'ident')"
   ]
  },
  {
   "cell_type": "code",
   "execution_count": 12,
   "metadata": {},
   "outputs": [],
   "source": [
    "#df_merged['long'], df_merged['lat'] = df_merged['coordinates'].str.split(',', 1).str"
   ]
  },
  {
   "cell_type": "code",
   "execution_count": 13,
   "metadata": {
    "scrolled": true
   },
   "outputs": [],
   "source": [
    "#len(df_merged)"
   ]
  },
  {
   "cell_type": "code",
   "execution_count": 14,
   "metadata": {},
   "outputs": [],
   "source": [
    "#pd.set_option('display.max_rows', None)"
   ]
  },
  {
   "cell_type": "code",
   "execution_count": 15,
   "metadata": {},
   "outputs": [
    {
     "data": {
      "text/plain": [
       "57421"
      ]
     },
     "execution_count": 15,
     "metadata": {},
     "output_type": "execute_result"
    }
   ],
   "source": [
    "len(airport_codes)"
   ]
  },
  {
   "cell_type": "markdown",
   "metadata": {},
   "source": [
    "**Merging df_airports and airport_codes to get long/lat values for airport IDs that only our data has**"
   ]
  },
  {
   "cell_type": "code",
   "execution_count": 16,
   "metadata": {},
   "outputs": [],
   "source": [
    "df_merged_4 = pd.merge(df_airports, airport_codes, how = 'inner', left_on = 'Airport ID', right_on = 'ident')"
   ]
  },
  {
   "cell_type": "code",
   "execution_count": 17,
   "metadata": {},
   "outputs": [
    {
     "name": "stderr",
     "output_type": "stream",
     "text": [
      "<ipython-input-17-dbca08aead81>:1: FutureWarning: Columnar iteration over characters will be deprecated in future releases.\n",
      "  df_merged_4['long'], df_merged_4['lat'] = df_merged_4['coordinates'].str.split(',', 1).str\n"
     ]
    }
   ],
   "source": [
    "df_merged_4['long'], df_merged_4['lat'] = df_merged_4['coordinates'].str.split(',', 1).str"
   ]
  },
  {
   "cell_type": "code",
   "execution_count": 18,
   "metadata": {},
   "outputs": [],
   "source": [
    "df_merged_4['lat'] = df_merged_4['lat'].astype(str)\n",
    "df_merged_4['long'] = df_merged_4['long'].astype(str)"
   ]
  },
  {
   "cell_type": "code",
   "execution_count": 19,
   "metadata": {
    "scrolled": true
   },
   "outputs": [
    {
     "data": {
      "text/html": [
       "<div>\n",
       "<style scoped>\n",
       "    .dataframe tbody tr th:only-of-type {\n",
       "        vertical-align: middle;\n",
       "    }\n",
       "\n",
       "    .dataframe tbody tr th {\n",
       "        vertical-align: top;\n",
       "    }\n",
       "\n",
       "    .dataframe thead th {\n",
       "        text-align: right;\n",
       "    }\n",
       "</style>\n",
       "<table border=\"1\" class=\"dataframe\">\n",
       "  <thead>\n",
       "    <tr style=\"text-align: right;\">\n",
       "      <th></th>\n",
       "      <th>Airport ID</th>\n",
       "      <th>Birdstrikes_N</th>\n",
       "      <th>ident</th>\n",
       "      <th>type</th>\n",
       "      <th>name</th>\n",
       "      <th>elevation_ft</th>\n",
       "      <th>continent</th>\n",
       "      <th>iso_country</th>\n",
       "      <th>iso_region</th>\n",
       "      <th>municipality</th>\n",
       "      <th>gps_code</th>\n",
       "      <th>iata_code</th>\n",
       "      <th>local_code</th>\n",
       "      <th>coordinates</th>\n",
       "      <th>long</th>\n",
       "      <th>lat</th>\n",
       "    </tr>\n",
       "  </thead>\n",
       "  <tbody>\n",
       "    <tr>\n",
       "      <th>0</th>\n",
       "      <td>KDFW</td>\n",
       "      <td>402</td>\n",
       "      <td>KDFW</td>\n",
       "      <td>large_airport</td>\n",
       "      <td>Dallas Fort Worth International Airport</td>\n",
       "      <td>607.0</td>\n",
       "      <td>NaN</td>\n",
       "      <td>US</td>\n",
       "      <td>US-TX</td>\n",
       "      <td>Dallas-Fort Worth</td>\n",
       "      <td>KDFW</td>\n",
       "      <td>DFW</td>\n",
       "      <td>DFW</td>\n",
       "      <td>-97.038002, 32.896801</td>\n",
       "      <td>-97.038002</td>\n",
       "      <td>32.896801</td>\n",
       "    </tr>\n",
       "    <tr>\n",
       "      <th>1</th>\n",
       "      <td>KSMF</td>\n",
       "      <td>337</td>\n",
       "      <td>KSMF</td>\n",
       "      <td>large_airport</td>\n",
       "      <td>Sacramento International Airport</td>\n",
       "      <td>27.0</td>\n",
       "      <td>NaN</td>\n",
       "      <td>US</td>\n",
       "      <td>US-CA</td>\n",
       "      <td>Sacramento</td>\n",
       "      <td>KSMF</td>\n",
       "      <td>SMF</td>\n",
       "      <td>SMF</td>\n",
       "      <td>-121.59100341796875, 38.69540023803711</td>\n",
       "      <td>-121.59100341796875</td>\n",
       "      <td>38.69540023803711</td>\n",
       "    </tr>\n",
       "    <tr>\n",
       "      <th>2</th>\n",
       "      <td>KDEN</td>\n",
       "      <td>293</td>\n",
       "      <td>KDEN</td>\n",
       "      <td>large_airport</td>\n",
       "      <td>Denver International Airport</td>\n",
       "      <td>5431.0</td>\n",
       "      <td>NaN</td>\n",
       "      <td>US</td>\n",
       "      <td>US-CO</td>\n",
       "      <td>Denver</td>\n",
       "      <td>KDEN</td>\n",
       "      <td>DEN</td>\n",
       "      <td>DEN</td>\n",
       "      <td>-104.672996521, 39.861698150635</td>\n",
       "      <td>-104.672996521</td>\n",
       "      <td>39.861698150635</td>\n",
       "    </tr>\n",
       "    <tr>\n",
       "      <th>3</th>\n",
       "      <td>KPHL</td>\n",
       "      <td>286</td>\n",
       "      <td>KPHL</td>\n",
       "      <td>large_airport</td>\n",
       "      <td>Philadelphia International Airport</td>\n",
       "      <td>36.0</td>\n",
       "      <td>NaN</td>\n",
       "      <td>US</td>\n",
       "      <td>US-PA</td>\n",
       "      <td>Philadelphia</td>\n",
       "      <td>KPHL</td>\n",
       "      <td>PHL</td>\n",
       "      <td>PHL</td>\n",
       "      <td>-75.24109649658203, 39.87189865112305</td>\n",
       "      <td>-75.24109649658203</td>\n",
       "      <td>39.87189865112305</td>\n",
       "    </tr>\n",
       "    <tr>\n",
       "      <th>4</th>\n",
       "      <td>KBNA</td>\n",
       "      <td>258</td>\n",
       "      <td>KBNA</td>\n",
       "      <td>large_airport</td>\n",
       "      <td>Nashville International Airport</td>\n",
       "      <td>599.0</td>\n",
       "      <td>NaN</td>\n",
       "      <td>US</td>\n",
       "      <td>US-TN</td>\n",
       "      <td>Nashville</td>\n",
       "      <td>KBNA</td>\n",
       "      <td>BNA</td>\n",
       "      <td>BNA</td>\n",
       "      <td>-86.6781997680664, 36.1245002746582</td>\n",
       "      <td>-86.6781997680664</td>\n",
       "      <td>36.1245002746582</td>\n",
       "    </tr>\n",
       "  </tbody>\n",
       "</table>\n",
       "</div>"
      ],
      "text/plain": [
       "  Airport ID  Birdstrikes_N ident           type  \\\n",
       "0       KDFW            402  KDFW  large_airport   \n",
       "1       KSMF            337  KSMF  large_airport   \n",
       "2       KDEN            293  KDEN  large_airport   \n",
       "3       KPHL            286  KPHL  large_airport   \n",
       "4       KBNA            258  KBNA  large_airport   \n",
       "\n",
       "                                      name  elevation_ft continent  \\\n",
       "0  Dallas Fort Worth International Airport         607.0       NaN   \n",
       "1         Sacramento International Airport          27.0       NaN   \n",
       "2             Denver International Airport        5431.0       NaN   \n",
       "3       Philadelphia International Airport          36.0       NaN   \n",
       "4          Nashville International Airport         599.0       NaN   \n",
       "\n",
       "  iso_country iso_region       municipality gps_code iata_code local_code  \\\n",
       "0          US      US-TX  Dallas-Fort Worth     KDFW       DFW        DFW   \n",
       "1          US      US-CA         Sacramento     KSMF       SMF        SMF   \n",
       "2          US      US-CO             Denver     KDEN       DEN        DEN   \n",
       "3          US      US-PA       Philadelphia     KPHL       PHL        PHL   \n",
       "4          US      US-TN          Nashville     KBNA       BNA        BNA   \n",
       "\n",
       "                              coordinates                 long  \\\n",
       "0                   -97.038002, 32.896801           -97.038002   \n",
       "1  -121.59100341796875, 38.69540023803711  -121.59100341796875   \n",
       "2         -104.672996521, 39.861698150635       -104.672996521   \n",
       "3   -75.24109649658203, 39.87189865112305   -75.24109649658203   \n",
       "4     -86.6781997680664, 36.1245002746582    -86.6781997680664   \n",
       "\n",
       "                  lat  \n",
       "0           32.896801  \n",
       "1   38.69540023803711  \n",
       "2     39.861698150635  \n",
       "3   39.87189865112305  \n",
       "4    36.1245002746582  "
      ]
     },
     "execution_count": 19,
     "metadata": {},
     "output_type": "execute_result"
    }
   ],
   "source": [
    "df_merged_4.head()"
   ]
  },
  {
   "cell_type": "markdown",
   "metadata": {},
   "source": [
    "**Create empty zips with lat/long df**"
   ]
  },
  {
   "cell_type": "code",
   "execution_count": 20,
   "metadata": {},
   "outputs": [],
   "source": [
    "column_names = [\"lat_\", \"long_\", \"zipcode\"]\n",
    "df_w_zip = pd.DataFrame(columns = column_names)"
   ]
  },
  {
   "cell_type": "markdown",
   "metadata": {},
   "source": [
    "**Import zipcodes via API**"
   ]
  },
  {
   "cell_type": "code",
   "execution_count": 21,
   "metadata": {},
   "outputs": [],
   "source": [
    "Token = '546a860b4a7a4d0697f2fe7f66f1e7e5'"
   ]
  },
  {
   "cell_type": "code",
   "execution_count": 22,
   "metadata": {},
   "outputs": [],
   "source": [
    "# initially, list was used to store zip codes, then switched to df\n",
    "# zip_codes_list = []"
   ]
  },
  {
   "cell_type": "code",
   "execution_count": 23,
   "metadata": {},
   "outputs": [],
   "source": [
    "for index, row in df_merged_4.iterrows():\n",
    "    #make the api call\n",
    "    response = requests.get('https://api.bigdatacloud.net/data/reverse-geocode?latitude='+row.lat+'&longitude='+row.long+'&localityLanguage=en&key='+Token)  \n",
    "    #load the api response as a json\n",
    "    res_json = json.loads(response.text)\n",
    "    if res_json['postcode'] == None:\n",
    "        continue\n",
    "    else:\n",
    "        new_row = {'lat_':row.lat, 'long_': row.long, 'zipcode': res_json['postcode']}\n",
    "        # print(new_row)\n",
    "        df_w_zip = df_w_zip.append(new_row, ignore_index=True)"
   ]
  },
  {
   "cell_type": "code",
   "execution_count": 24,
   "metadata": {},
   "outputs": [
    {
     "data": {
      "text/plain": [
       "802"
      ]
     },
     "execution_count": 24,
     "metadata": {},
     "output_type": "execute_result"
    }
   ],
   "source": [
    "len(df_w_zip)"
   ]
  },
  {
   "cell_type": "code",
   "execution_count": 25,
   "metadata": {},
   "outputs": [
    {
     "data": {
      "text/html": [
       "<div>\n",
       "<style scoped>\n",
       "    .dataframe tbody tr th:only-of-type {\n",
       "        vertical-align: middle;\n",
       "    }\n",
       "\n",
       "    .dataframe tbody tr th {\n",
       "        vertical-align: top;\n",
       "    }\n",
       "\n",
       "    .dataframe thead th {\n",
       "        text-align: right;\n",
       "    }\n",
       "</style>\n",
       "<table border=\"1\" class=\"dataframe\">\n",
       "  <thead>\n",
       "    <tr style=\"text-align: right;\">\n",
       "      <th></th>\n",
       "      <th>lat_</th>\n",
       "      <th>long_</th>\n",
       "      <th>zipcode</th>\n",
       "    </tr>\n",
       "  </thead>\n",
       "  <tbody>\n",
       "    <tr>\n",
       "      <th>0</th>\n",
       "      <td>32.896801</td>\n",
       "      <td>-97.038002</td>\n",
       "      <td>76051</td>\n",
       "    </tr>\n",
       "    <tr>\n",
       "      <th>1</th>\n",
       "      <td>38.69540023803711</td>\n",
       "      <td>-121.59100341796875</td>\n",
       "      <td>95837</td>\n",
       "    </tr>\n",
       "    <tr>\n",
       "      <th>2</th>\n",
       "      <td>39.861698150635</td>\n",
       "      <td>-104.672996521</td>\n",
       "      <td>80249</td>\n",
       "    </tr>\n",
       "    <tr>\n",
       "      <th>3</th>\n",
       "      <td>39.87189865112305</td>\n",
       "      <td>-75.24109649658203</td>\n",
       "      <td>19113</td>\n",
       "    </tr>\n",
       "    <tr>\n",
       "      <th>4</th>\n",
       "      <td>36.1245002746582</td>\n",
       "      <td>-86.6781997680664</td>\n",
       "      <td>37214</td>\n",
       "    </tr>\n",
       "  </tbody>\n",
       "</table>\n",
       "</div>"
      ],
      "text/plain": [
       "                 lat_                long_ zipcode\n",
       "0           32.896801           -97.038002   76051\n",
       "1   38.69540023803711  -121.59100341796875   95837\n",
       "2     39.861698150635       -104.672996521   80249\n",
       "3   39.87189865112305   -75.24109649658203   19113\n",
       "4    36.1245002746582    -86.6781997680664   37214"
      ]
     },
     "execution_count": 25,
     "metadata": {},
     "output_type": "execute_result"
    }
   ],
   "source": [
    "df_w_zip.head()"
   ]
  },
  {
   "cell_type": "code",
   "execution_count": 26,
   "metadata": {},
   "outputs": [],
   "source": [
    "# this csv was not helpful\n",
    "# zip_codes = pd.read_csv('us-zip-code-latitude-and-longitude.csv', sep=';')"
   ]
  },
  {
   "cell_type": "markdown",
   "metadata": {},
   "source": [
    "**Join all dates together into one column**"
   ]
  },
  {
   "cell_type": "code",
   "execution_count": 27,
   "metadata": {},
   "outputs": [],
   "source": [
    "df_cleaned[\"incident_date\"] = df_cleaned[\"Incident Year\"].astype(str) + \"-\" + df_cleaned[\"Incident Month\"].astype(str) + \"-\" + df_cleaned[\"Incident Day\"].astype(str)\n",
    "df_cleaned[\"incident_date\"] = pd.to_datetime(df_cleaned['incident_date'], format= '%Y-%m-%d').astype(str)\n",
    "# date_list = pd.DataFrame(df_cleaned['incident_date'])\n",
    "# date_list['incident_date'] = date_list['incident_date'].astype(str)"
   ]
  },
  {
   "cell_type": "code",
   "execution_count": 28,
   "metadata": {},
   "outputs": [
    {
     "data": {
      "text/plain": [
       "11675"
      ]
     },
     "execution_count": 28,
     "metadata": {},
     "output_type": "execute_result"
    }
   ],
   "source": [
    "len(df_cleaned)"
   ]
  },
  {
   "cell_type": "code",
   "execution_count": 29,
   "metadata": {},
   "outputs": [],
   "source": [
    "#len(df_cleaned[df_cleaned['incident_date'].str.contains(\"2010\")])"
   ]
  },
  {
   "cell_type": "code",
   "execution_count": 30,
   "metadata": {},
   "outputs": [],
   "source": [
    "df_cleaned_coord = pd.merge(df_cleaned, df_merged_4, how = 'left', left_on = 'Airport ID', right_on = 'Airport ID')"
   ]
  },
  {
   "cell_type": "code",
   "execution_count": 31,
   "metadata": {},
   "outputs": [
    {
     "data": {
      "text/html": [
       "<div>\n",
       "<style scoped>\n",
       "    .dataframe tbody tr th:only-of-type {\n",
       "        vertical-align: middle;\n",
       "    }\n",
       "\n",
       "    .dataframe tbody tr th {\n",
       "        vertical-align: top;\n",
       "    }\n",
       "\n",
       "    .dataframe thead th {\n",
       "        text-align: right;\n",
       "    }\n",
       "</style>\n",
       "<table border=\"1\" class=\"dataframe\">\n",
       "  <thead>\n",
       "    <tr style=\"text-align: right;\">\n",
       "      <th></th>\n",
       "      <th>Unnamed: 0</th>\n",
       "      <th>Record ID</th>\n",
       "      <th>Incident Year</th>\n",
       "      <th>Incident Month</th>\n",
       "      <th>Incident Day</th>\n",
       "      <th>Operator ID</th>\n",
       "      <th>Operator</th>\n",
       "      <th>Aircraft</th>\n",
       "      <th>Aircraft Type</th>\n",
       "      <th>Aircraft Make</th>\n",
       "      <th>...</th>\n",
       "      <th>continent</th>\n",
       "      <th>iso_country</th>\n",
       "      <th>iso_region</th>\n",
       "      <th>municipality</th>\n",
       "      <th>gps_code</th>\n",
       "      <th>iata_code</th>\n",
       "      <th>local_code</th>\n",
       "      <th>coordinates</th>\n",
       "      <th>long</th>\n",
       "      <th>lat</th>\n",
       "    </tr>\n",
       "  </thead>\n",
       "  <tbody>\n",
       "    <tr>\n",
       "      <th>0</th>\n",
       "      <td>106753</td>\n",
       "      <td>300045</td>\n",
       "      <td>2010</td>\n",
       "      <td>1</td>\n",
       "      <td>1</td>\n",
       "      <td>BUS</td>\n",
       "      <td>BUSINESS</td>\n",
       "      <td>C-310</td>\n",
       "      <td>A</td>\n",
       "      <td>226</td>\n",
       "      <td>...</td>\n",
       "      <td>NaN</td>\n",
       "      <td>US</td>\n",
       "      <td>US-FL</td>\n",
       "      <td>Pompano Beach</td>\n",
       "      <td>KPMP</td>\n",
       "      <td>PPM</td>\n",
       "      <td>PMP</td>\n",
       "      <td>-80.111099243164, 26.247100830078</td>\n",
       "      <td>-80.111099243164</td>\n",
       "      <td>26.247100830078</td>\n",
       "    </tr>\n",
       "    <tr>\n",
       "      <th>1</th>\n",
       "      <td>106754</td>\n",
       "      <td>300390</td>\n",
       "      <td>2010</td>\n",
       "      <td>1</td>\n",
       "      <td>1</td>\n",
       "      <td>JBU</td>\n",
       "      <td>JETBLUE AIRWAYS</td>\n",
       "      <td>A-320</td>\n",
       "      <td>A</td>\n",
       "      <td>04A</td>\n",
       "      <td>...</td>\n",
       "      <td>NaN</td>\n",
       "      <td>US</td>\n",
       "      <td>US-FL</td>\n",
       "      <td>Orlando</td>\n",
       "      <td>KMCO</td>\n",
       "      <td>MCO</td>\n",
       "      <td>MCO</td>\n",
       "      <td>-81.30899810791016, 28.429399490356445</td>\n",
       "      <td>-81.30899810791016</td>\n",
       "      <td>28.429399490356445</td>\n",
       "    </tr>\n",
       "    <tr>\n",
       "      <th>2</th>\n",
       "      <td>106764</td>\n",
       "      <td>300701</td>\n",
       "      <td>2010</td>\n",
       "      <td>1</td>\n",
       "      <td>2</td>\n",
       "      <td>SKW</td>\n",
       "      <td>SKYWEST AIRLINES</td>\n",
       "      <td>CRJ100/200</td>\n",
       "      <td>A</td>\n",
       "      <td>188</td>\n",
       "      <td>...</td>\n",
       "      <td>NaN</td>\n",
       "      <td>US</td>\n",
       "      <td>US-UT</td>\n",
       "      <td>Salt Lake City</td>\n",
       "      <td>KSLC</td>\n",
       "      <td>SLC</td>\n",
       "      <td>SLC</td>\n",
       "      <td>-111.97799682617188, 40.78839874267578</td>\n",
       "      <td>-111.97799682617188</td>\n",
       "      <td>40.78839874267578</td>\n",
       "    </tr>\n",
       "    <tr>\n",
       "      <th>3</th>\n",
       "      <td>106765</td>\n",
       "      <td>300186</td>\n",
       "      <td>2010</td>\n",
       "      <td>1</td>\n",
       "      <td>2</td>\n",
       "      <td>NWA</td>\n",
       "      <td>NORTHWEST AIRLINES</td>\n",
       "      <td>DC-9</td>\n",
       "      <td>A</td>\n",
       "      <td>583</td>\n",
       "      <td>...</td>\n",
       "      <td>NaN</td>\n",
       "      <td>US</td>\n",
       "      <td>US-MD</td>\n",
       "      <td>Baltimore</td>\n",
       "      <td>KBWI</td>\n",
       "      <td>BWI</td>\n",
       "      <td>BWI</td>\n",
       "      <td>-76.668297, 39.1754</td>\n",
       "      <td>-76.668297</td>\n",
       "      <td>39.1754</td>\n",
       "    </tr>\n",
       "    <tr>\n",
       "      <th>4</th>\n",
       "      <td>106769</td>\n",
       "      <td>301152</td>\n",
       "      <td>2010</td>\n",
       "      <td>1</td>\n",
       "      <td>2</td>\n",
       "      <td>JBU</td>\n",
       "      <td>JETBLUE AIRWAYS</td>\n",
       "      <td>A-320</td>\n",
       "      <td>A</td>\n",
       "      <td>04A</td>\n",
       "      <td>...</td>\n",
       "      <td>NaN</td>\n",
       "      <td>US</td>\n",
       "      <td>US-FL</td>\n",
       "      <td>Orlando</td>\n",
       "      <td>KMCO</td>\n",
       "      <td>MCO</td>\n",
       "      <td>MCO</td>\n",
       "      <td>-81.30899810791016, 28.429399490356445</td>\n",
       "      <td>-81.30899810791016</td>\n",
       "      <td>28.429399490356445</td>\n",
       "    </tr>\n",
       "  </tbody>\n",
       "</table>\n",
       "<p>5 rows × 41 columns</p>\n",
       "</div>"
      ],
      "text/plain": [
       "   Unnamed: 0  Record ID  Incident Year  Incident Month  Incident Day  \\\n",
       "0      106753     300045           2010               1             1   \n",
       "1      106754     300390           2010               1             1   \n",
       "2      106764     300701           2010               1             2   \n",
       "3      106765     300186           2010               1             2   \n",
       "4      106769     301152           2010               1             2   \n",
       "\n",
       "  Operator ID            Operator    Aircraft Aircraft Type Aircraft Make  \\\n",
       "0         BUS            BUSINESS       C-310             A           226   \n",
       "1         JBU     JETBLUE AIRWAYS       A-320             A           04A   \n",
       "2         SKW    SKYWEST AIRLINES  CRJ100/200             A           188   \n",
       "3         NWA  NORTHWEST AIRLINES        DC-9             A           583   \n",
       "4         JBU     JETBLUE AIRWAYS       A-320             A           04A   \n",
       "\n",
       "   ... continent iso_country iso_region    municipality gps_code iata_code  \\\n",
       "0  ...       NaN          US      US-FL   Pompano Beach     KPMP       PPM   \n",
       "1  ...       NaN          US      US-FL         Orlando     KMCO       MCO   \n",
       "2  ...       NaN          US      US-UT  Salt Lake City     KSLC       SLC   \n",
       "3  ...       NaN          US      US-MD       Baltimore     KBWI       BWI   \n",
       "4  ...       NaN          US      US-FL         Orlando     KMCO       MCO   \n",
       "\n",
       "  local_code                             coordinates                 long  \\\n",
       "0        PMP       -80.111099243164, 26.247100830078     -80.111099243164   \n",
       "1        MCO  -81.30899810791016, 28.429399490356445   -81.30899810791016   \n",
       "2        SLC  -111.97799682617188, 40.78839874267578  -111.97799682617188   \n",
       "3        BWI                     -76.668297, 39.1754           -76.668297   \n",
       "4        MCO  -81.30899810791016, 28.429399490356445   -81.30899810791016   \n",
       "\n",
       "                   lat  \n",
       "0      26.247100830078  \n",
       "1   28.429399490356445  \n",
       "2    40.78839874267578  \n",
       "3              39.1754  \n",
       "4   28.429399490356445  \n",
       "\n",
       "[5 rows x 41 columns]"
      ]
     },
     "execution_count": 31,
     "metadata": {},
     "output_type": "execute_result"
    }
   ],
   "source": [
    "df_cleaned_coord.head()"
   ]
  },
  {
   "cell_type": "code",
   "execution_count": 32,
   "metadata": {},
   "outputs": [],
   "source": [
    "df_cleaned_coord = df_cleaned_coord.drop(columns=['continent','iso_country','iso_region','gps_code','iata_code','local_code'])"
   ]
  },
  {
   "cell_type": "code",
   "execution_count": 33,
   "metadata": {},
   "outputs": [
    {
     "data": {
      "text/plain": [
       "Index(['Unnamed: 0', 'Record ID', 'Incident Year', 'Incident Month',\n",
       "       'Incident Day', 'Operator ID', 'Operator', 'Aircraft', 'Aircraft Type',\n",
       "       'Aircraft Make', 'Aircraft Model', 'Airport ID', 'Airport', 'State',\n",
       "       'FAA Region', 'Flight Phase', 'Visibility', 'Precipitation', 'Height',\n",
       "       'Speed', 'Distance', 'Species ID', 'Species Name', 'Species Quantity',\n",
       "       'Flight Impact', 'incident_date', 'Birdstrikes_N', 'ident', 'type',\n",
       "       'name', 'elevation_ft', 'municipality', 'coordinates', 'long', 'lat'],\n",
       "      dtype='object')"
      ]
     },
     "execution_count": 33,
     "metadata": {},
     "output_type": "execute_result"
    }
   ],
   "source": [
    "df_cleaned_coord.columns"
   ]
  },
  {
   "cell_type": "code",
   "execution_count": 34,
   "metadata": {},
   "outputs": [],
   "source": [
    "df_zip_date = pd.merge(df_cleaned_coord, df_w_zip, how = 'left', left_on = ['long', 'lat'], right_on = ['long_', 'lat_'])"
   ]
  },
  {
   "cell_type": "code",
   "execution_count": 35,
   "metadata": {},
   "outputs": [
    {
     "data": {
      "text/html": [
       "<div>\n",
       "<style scoped>\n",
       "    .dataframe tbody tr th:only-of-type {\n",
       "        vertical-align: middle;\n",
       "    }\n",
       "\n",
       "    .dataframe tbody tr th {\n",
       "        vertical-align: top;\n",
       "    }\n",
       "\n",
       "    .dataframe thead th {\n",
       "        text-align: right;\n",
       "    }\n",
       "</style>\n",
       "<table border=\"1\" class=\"dataframe\">\n",
       "  <thead>\n",
       "    <tr style=\"text-align: right;\">\n",
       "      <th></th>\n",
       "      <th>Unnamed: 0</th>\n",
       "      <th>Record ID</th>\n",
       "      <th>Incident Year</th>\n",
       "      <th>Incident Month</th>\n",
       "      <th>Incident Day</th>\n",
       "      <th>Operator ID</th>\n",
       "      <th>Operator</th>\n",
       "      <th>Aircraft</th>\n",
       "      <th>Aircraft Type</th>\n",
       "      <th>Aircraft Make</th>\n",
       "      <th>...</th>\n",
       "      <th>type</th>\n",
       "      <th>name</th>\n",
       "      <th>elevation_ft</th>\n",
       "      <th>municipality</th>\n",
       "      <th>coordinates</th>\n",
       "      <th>long</th>\n",
       "      <th>lat</th>\n",
       "      <th>lat_</th>\n",
       "      <th>long_</th>\n",
       "      <th>zipcode</th>\n",
       "    </tr>\n",
       "  </thead>\n",
       "  <tbody>\n",
       "    <tr>\n",
       "      <th>0</th>\n",
       "      <td>106753</td>\n",
       "      <td>300045</td>\n",
       "      <td>2010</td>\n",
       "      <td>1</td>\n",
       "      <td>1</td>\n",
       "      <td>BUS</td>\n",
       "      <td>BUSINESS</td>\n",
       "      <td>C-310</td>\n",
       "      <td>A</td>\n",
       "      <td>226</td>\n",
       "      <td>...</td>\n",
       "      <td>small_airport</td>\n",
       "      <td>Pompano Beach Airpark</td>\n",
       "      <td>19.0</td>\n",
       "      <td>Pompano Beach</td>\n",
       "      <td>-80.111099243164, 26.247100830078</td>\n",
       "      <td>-80.111099243164</td>\n",
       "      <td>26.247100830078</td>\n",
       "      <td>26.247100830078</td>\n",
       "      <td>-80.111099243164</td>\n",
       "      <td>33060</td>\n",
       "    </tr>\n",
       "    <tr>\n",
       "      <th>1</th>\n",
       "      <td>106754</td>\n",
       "      <td>300390</td>\n",
       "      <td>2010</td>\n",
       "      <td>1</td>\n",
       "      <td>1</td>\n",
       "      <td>JBU</td>\n",
       "      <td>JETBLUE AIRWAYS</td>\n",
       "      <td>A-320</td>\n",
       "      <td>A</td>\n",
       "      <td>04A</td>\n",
       "      <td>...</td>\n",
       "      <td>large_airport</td>\n",
       "      <td>Orlando International Airport</td>\n",
       "      <td>96.0</td>\n",
       "      <td>Orlando</td>\n",
       "      <td>-81.30899810791016, 28.429399490356445</td>\n",
       "      <td>-81.30899810791016</td>\n",
       "      <td>28.429399490356445</td>\n",
       "      <td>28.429399490356445</td>\n",
       "      <td>-81.30899810791016</td>\n",
       "      <td>32827</td>\n",
       "    </tr>\n",
       "    <tr>\n",
       "      <th>2</th>\n",
       "      <td>106764</td>\n",
       "      <td>300701</td>\n",
       "      <td>2010</td>\n",
       "      <td>1</td>\n",
       "      <td>2</td>\n",
       "      <td>SKW</td>\n",
       "      <td>SKYWEST AIRLINES</td>\n",
       "      <td>CRJ100/200</td>\n",
       "      <td>A</td>\n",
       "      <td>188</td>\n",
       "      <td>...</td>\n",
       "      <td>large_airport</td>\n",
       "      <td>Salt Lake City International Airport</td>\n",
       "      <td>4227.0</td>\n",
       "      <td>Salt Lake City</td>\n",
       "      <td>-111.97799682617188, 40.78839874267578</td>\n",
       "      <td>-111.97799682617188</td>\n",
       "      <td>40.78839874267578</td>\n",
       "      <td>40.78839874267578</td>\n",
       "      <td>-111.97799682617188</td>\n",
       "      <td>84116</td>\n",
       "    </tr>\n",
       "    <tr>\n",
       "      <th>3</th>\n",
       "      <td>106765</td>\n",
       "      <td>300186</td>\n",
       "      <td>2010</td>\n",
       "      <td>1</td>\n",
       "      <td>2</td>\n",
       "      <td>NWA</td>\n",
       "      <td>NORTHWEST AIRLINES</td>\n",
       "      <td>DC-9</td>\n",
       "      <td>A</td>\n",
       "      <td>583</td>\n",
       "      <td>...</td>\n",
       "      <td>large_airport</td>\n",
       "      <td>Baltimore/Washington International Thurgood Ma...</td>\n",
       "      <td>146.0</td>\n",
       "      <td>Baltimore</td>\n",
       "      <td>-76.668297, 39.1754</td>\n",
       "      <td>-76.668297</td>\n",
       "      <td>39.1754</td>\n",
       "      <td>39.1754</td>\n",
       "      <td>-76.668297</td>\n",
       "      <td>21240</td>\n",
       "    </tr>\n",
       "    <tr>\n",
       "      <th>4</th>\n",
       "      <td>106769</td>\n",
       "      <td>301152</td>\n",
       "      <td>2010</td>\n",
       "      <td>1</td>\n",
       "      <td>2</td>\n",
       "      <td>JBU</td>\n",
       "      <td>JETBLUE AIRWAYS</td>\n",
       "      <td>A-320</td>\n",
       "      <td>A</td>\n",
       "      <td>04A</td>\n",
       "      <td>...</td>\n",
       "      <td>large_airport</td>\n",
       "      <td>Orlando International Airport</td>\n",
       "      <td>96.0</td>\n",
       "      <td>Orlando</td>\n",
       "      <td>-81.30899810791016, 28.429399490356445</td>\n",
       "      <td>-81.30899810791016</td>\n",
       "      <td>28.429399490356445</td>\n",
       "      <td>28.429399490356445</td>\n",
       "      <td>-81.30899810791016</td>\n",
       "      <td>32827</td>\n",
       "    </tr>\n",
       "  </tbody>\n",
       "</table>\n",
       "<p>5 rows × 38 columns</p>\n",
       "</div>"
      ],
      "text/plain": [
       "   Unnamed: 0  Record ID  Incident Year  Incident Month  Incident Day  \\\n",
       "0      106753     300045           2010               1             1   \n",
       "1      106754     300390           2010               1             1   \n",
       "2      106764     300701           2010               1             2   \n",
       "3      106765     300186           2010               1             2   \n",
       "4      106769     301152           2010               1             2   \n",
       "\n",
       "  Operator ID            Operator    Aircraft Aircraft Type Aircraft Make  \\\n",
       "0         BUS            BUSINESS       C-310             A           226   \n",
       "1         JBU     JETBLUE AIRWAYS       A-320             A           04A   \n",
       "2         SKW    SKYWEST AIRLINES  CRJ100/200             A           188   \n",
       "3         NWA  NORTHWEST AIRLINES        DC-9             A           583   \n",
       "4         JBU     JETBLUE AIRWAYS       A-320             A           04A   \n",
       "\n",
       "   ...           type                                               name  \\\n",
       "0  ...  small_airport                              Pompano Beach Airpark   \n",
       "1  ...  large_airport                      Orlando International Airport   \n",
       "2  ...  large_airport               Salt Lake City International Airport   \n",
       "3  ...  large_airport  Baltimore/Washington International Thurgood Ma...   \n",
       "4  ...  large_airport                      Orlando International Airport   \n",
       "\n",
       "  elevation_ft    municipality                             coordinates  \\\n",
       "0         19.0   Pompano Beach       -80.111099243164, 26.247100830078   \n",
       "1         96.0         Orlando  -81.30899810791016, 28.429399490356445   \n",
       "2       4227.0  Salt Lake City  -111.97799682617188, 40.78839874267578   \n",
       "3        146.0       Baltimore                     -76.668297, 39.1754   \n",
       "4         96.0         Orlando  -81.30899810791016, 28.429399490356445   \n",
       "\n",
       "                  long                  lat                 lat_  \\\n",
       "0     -80.111099243164      26.247100830078      26.247100830078   \n",
       "1   -81.30899810791016   28.429399490356445   28.429399490356445   \n",
       "2  -111.97799682617188    40.78839874267578    40.78839874267578   \n",
       "3           -76.668297              39.1754              39.1754   \n",
       "4   -81.30899810791016   28.429399490356445   28.429399490356445   \n",
       "\n",
       "                 long_  zipcode  \n",
       "0     -80.111099243164    33060  \n",
       "1   -81.30899810791016    32827  \n",
       "2  -111.97799682617188    84116  \n",
       "3           -76.668297    21240  \n",
       "4   -81.30899810791016    32827  \n",
       "\n",
       "[5 rows x 38 columns]"
      ]
     },
     "execution_count": 35,
     "metadata": {},
     "output_type": "execute_result"
    }
   ],
   "source": [
    "df_zip_date.head()"
   ]
  },
  {
   "cell_type": "code",
   "execution_count": 36,
   "metadata": {},
   "outputs": [
    {
     "data": {
      "text/plain": [
       "73"
      ]
     },
     "execution_count": 36,
     "metadata": {},
     "output_type": "execute_result"
    }
   ],
   "source": [
    "df_zip_date['zipcode'].isna().sum()"
   ]
  },
  {
   "cell_type": "code",
   "execution_count": 37,
   "metadata": {},
   "outputs": [],
   "source": [
    "df_zip_date = df_zip_date[df_zip_date[\"zipcode\"] != \"\"]"
   ]
  },
  {
   "cell_type": "code",
   "execution_count": 38,
   "metadata": {},
   "outputs": [
    {
     "data": {
      "text/plain": [
       "11597"
      ]
     },
     "execution_count": 38,
     "metadata": {},
     "output_type": "execute_result"
    }
   ],
   "source": [
    "len(df_zip_date)"
   ]
  },
  {
   "cell_type": "code",
   "execution_count": 39,
   "metadata": {},
   "outputs": [
    {
     "data": {
      "text/plain": [
       "Index(['Unnamed: 0', 'Record ID', 'Incident Year', 'Incident Month',\n",
       "       'Incident Day', 'Operator ID', 'Operator', 'Aircraft', 'Aircraft Type',\n",
       "       'Aircraft Make', 'Aircraft Model', 'Airport ID', 'Airport', 'State',\n",
       "       'FAA Region', 'Flight Phase', 'Visibility', 'Precipitation', 'Height',\n",
       "       'Speed', 'Distance', 'Species ID', 'Species Name', 'Species Quantity',\n",
       "       'Flight Impact', 'incident_date', 'Birdstrikes_N', 'ident', 'type',\n",
       "       'name', 'elevation_ft', 'municipality', 'coordinates', 'long', 'lat',\n",
       "       'lat_', 'long_', 'zipcode'],\n",
       "      dtype='object')"
      ]
     },
     "execution_count": 39,
     "metadata": {},
     "output_type": "execute_result"
    }
   ],
   "source": [
    "df_zip_date.columns"
   ]
  },
  {
   "cell_type": "code",
   "execution_count": 40,
   "metadata": {},
   "outputs": [],
   "source": [
    "df_zip_date_2010 = df_zip_date[df_zip_date['incident_date'].str.contains(\"2010\")]"
   ]
  },
  {
   "cell_type": "code",
   "execution_count": 41,
   "metadata": {},
   "outputs": [
    {
     "name": "stderr",
     "output_type": "stream",
     "text": [
      "<ipython-input-41-0b76fc991acd>:1: SettingWithCopyWarning: \n",
      "A value is trying to be set on a copy of a slice from a DataFrame.\n",
      "Try using .loc[row_indexer,col_indexer] = value instead\n",
      "\n",
      "See the caveats in the documentation: https://pandas.pydata.org/pandas-docs/stable/user_guide/indexing.html#returning-a-view-versus-a-copy\n",
      "  df_zip_date_2010['zipcode'] = df_zip_date_2010['zipcode'].astype(str)\n"
     ]
    }
   ],
   "source": [
    "df_zip_date_2010['zipcode'] = df_zip_date_2010['zipcode'].astype(str)"
   ]
  },
  {
   "cell_type": "code",
   "execution_count": 47,
   "metadata": {},
   "outputs": [],
   "source": [
    "column_names = [\"date\", \"station\", \"zipcode\", \"value\"]\n",
    "\n",
    "df_w_weather = pd.DataFrame(columns = column_names)"
   ]
  },
  {
   "cell_type": "code",
   "execution_count": 54,
   "metadata": {},
   "outputs": [],
   "source": [
    "Token_w = 'EHZroSHTsmfKuOMeOWRkrDpMPWoZTXmb'"
   ]
  },
  {
   "cell_type": "code",
   "execution_count": null,
   "metadata": {},
   "outputs": [
    {
     "name": "stdout",
     "output_type": "stream",
     "text": [
      "{'date': '2010-01-07', 'station': 'GHCND:USC00083163', 'zipcode': '33315', 'value': 50}\n",
      "{'date': '2010-01-10', 'station': 'GHCND:USC00446147', 'zipcode': '23502', 'value': -39}\n",
      "{'date': '2010-01-12', 'station': 'GHCND:USC00413691', 'zipcode': '76051', 'value': -6}\n",
      "{'date': '2010-01-16', 'station': 'GHCND:USC00502587', 'zipcode': '99685', 'value': 28}\n",
      "{'date': '2010-01-17', 'station': 'GHCND:USC00046572', 'zipcode': '93030', 'value': 117}\n",
      "{'date': '2010-01-19', 'station': 'GHCND:USC00500275', 'zipcode': '99502', 'value': -78}\n",
      "{'date': '2010-01-19', 'station': 'GHCND:USC00245740', 'zipcode': '59808', 'value': -6}\n",
      "{'date': '2010-01-22', 'station': 'GHCND:USC00516198', 'zipcode': '96720', 'value': 100}\n",
      "{'date': '2010-01-28', 'station': 'GHCND:USC00413691', 'zipcode': '76051', 'value': 133}\n",
      "{'date': '2010-01-29', 'station': 'GHCND:USC00142980', 'zipcode': '67846', 'value': -94}\n",
      "{'date': '2010-01-30', 'station': 'GHCND:USC00083163', 'zipcode': '33315', 'value': 206}\n",
      "{'date': '2010-02-04', 'station': 'GHCND:USC00413943', 'zipcode': '78550', 'value': 167}\n",
      "{'date': '2010-02-15', 'station': 'GHCND:USC00083163', 'zipcode': '33315', 'value': 106}\n",
      "{'date': '2010-02-16', 'station': 'GHCND:USC00041194', 'zipcode': '91505', 'value': 89}\n",
      "{'date': '2010-02-26', 'station': 'GHCND:USC00516198', 'zipcode': '96720', 'value': 139}\n",
      "{'date': '2010-03-01', 'station': 'GHCND:USC00454769', 'zipcode': '98626', 'value': 139}\n",
      "{'date': '2010-03-02', 'station': 'GHCND:USC00516198', 'zipcode': '96720', 'value': 78}\n",
      "{'date': '2010-03-03', 'station': 'GHCND:USC00141699', 'zipcode': '67701', 'value': -22}\n",
      "{'date': '2010-03-03', 'station': 'GHCND:USC00516198', 'zipcode': '96720', 'value': 117}\n",
      "{'date': '2010-03-05', 'station': 'GHCND:USC00088942', 'zipcode': '32780', 'value': 44}\n",
      "{'date': '2010-03-06', 'station': 'GHCND:USC00041194', 'zipcode': '91505', 'value': 72}\n",
      "{'date': '2010-03-09', 'station': 'GHCND:USC00183353', 'zipcode': '21701', 'value': -6}\n",
      "{'date': '2010-03-10', 'station': 'GHCND:USC00454769', 'zipcode': '98626', 'value': 94}\n",
      "{'date': '2010-03-10', 'station': 'GHCND:USC00446147', 'zipcode': '23502', 'value': 144}\n",
      "{'date': '2010-03-12', 'station': 'GHCND:USC00412011', 'zipcode': '78406', 'value': 144}\n",
      "{'date': '2010-03-16', 'station': 'GHCND:USC00415891', 'zipcode': '79706', 'value': 128}\n"
     ]
    }
   ],
   "source": [
    "for index,row in df_zip_date_2010.iterrows():\n",
    "    response = requests.get('https://www.ncdc.noaa.gov/cdo-web/api/v2/data?datasetid=GHCND&locationid=ZIP:'+row.zipcode+'&datatypeid=TOBS&startdate='+row.incident_date+'&enddate='+row.incident_date, \n",
    "                             headers={'token':Token_w})\n",
    "    res_json = json.loads(response.text)\n",
    "    if res_json != {}:\n",
    "        new_row = {'date': row.incident_date, 'station': res_json['results'][0]['station'], 'zipcode': row.zipcode, 'value': res_json['results'][0]['value']}\n",
    "        df_w_weather = df_w_weather.append(new_row, ignore_index=True)\n",
    "        print(new_row)"
   ]
  },
  {
   "cell_type": "markdown",
   "metadata": {},
   "source": [
    "From the documentation:\n",
    "\n",
    "ftp://ftp.ncdc.noaa.gov/pub/data/ghcn/daily/readme.txt\n",
    "\n",
    "https://stackoverflow.com/questions/49280302/noaa-api-returning-impossible-historical-temperature-values\n",
    "\n",
    "TOBS = Temperature at the time of observation (tenths of degrees C). We can divide results by 10"
   ]
  },
  {
   "cell_type": "code",
   "execution_count": 45,
   "metadata": {},
   "outputs": [],
   "source": [
    "df_w_weather.to_csv('df_w_weather.csv', index=False)"
   ]
  },
  {
   "cell_type": "markdown",
   "metadata": {},
   "source": [
    "**Import Precipitation (PRCP) data via API**"
   ]
  },
  {
   "cell_type": "code",
   "execution_count": null,
   "metadata": {},
   "outputs": [],
   "source": [
    "column_names = [\"date\", \"station\", \"zipcode\", \"prcp_value\"]\n",
    "\n",
    "df_w_prcp = pd.DataFrame(columns = column_names)"
   ]
  },
  {
   "cell_type": "code",
   "execution_count": 60,
   "metadata": {},
   "outputs": [
    {
     "ename": "NameError",
     "evalue": "name 'df_w_prcp' is not defined",
     "output_type": "error",
     "traceback": [
      "\u001b[1;31m---------------------------------------------------------------------------\u001b[0m",
      "\u001b[1;31mNameError\u001b[0m                                 Traceback (most recent call last)",
      "\u001b[1;32m<ipython-input-60-8fa5c5e2d9ec>\u001b[0m in \u001b[0;36m<module>\u001b[1;34m\u001b[0m\n\u001b[0;32m      5\u001b[0m     \u001b[1;32mif\u001b[0m \u001b[0mres_json\u001b[0m \u001b[1;33m!=\u001b[0m \u001b[1;33m{\u001b[0m\u001b[1;33m}\u001b[0m\u001b[1;33m:\u001b[0m\u001b[1;33m\u001b[0m\u001b[1;33m\u001b[0m\u001b[0m\n\u001b[0;32m      6\u001b[0m         \u001b[0mnew_row\u001b[0m \u001b[1;33m=\u001b[0m \u001b[1;33m{\u001b[0m\u001b[1;34m'date'\u001b[0m\u001b[1;33m:\u001b[0m \u001b[0mrow\u001b[0m\u001b[1;33m.\u001b[0m\u001b[0mincident_date\u001b[0m\u001b[1;33m,\u001b[0m \u001b[1;34m'station'\u001b[0m\u001b[1;33m:\u001b[0m \u001b[0mres_json\u001b[0m\u001b[1;33m[\u001b[0m\u001b[1;34m'results'\u001b[0m\u001b[1;33m]\u001b[0m\u001b[1;33m[\u001b[0m\u001b[1;36m0\u001b[0m\u001b[1;33m]\u001b[0m\u001b[1;33m[\u001b[0m\u001b[1;34m'station'\u001b[0m\u001b[1;33m]\u001b[0m\u001b[1;33m,\u001b[0m \u001b[1;34m'zipcode'\u001b[0m\u001b[1;33m:\u001b[0m \u001b[0mrow\u001b[0m\u001b[1;33m.\u001b[0m\u001b[0mzipcode\u001b[0m\u001b[1;33m,\u001b[0m \u001b[1;34m'prcp_value'\u001b[0m\u001b[1;33m:\u001b[0m \u001b[0mres_json\u001b[0m\u001b[1;33m[\u001b[0m\u001b[1;34m'results'\u001b[0m\u001b[1;33m]\u001b[0m\u001b[1;33m[\u001b[0m\u001b[1;36m0\u001b[0m\u001b[1;33m]\u001b[0m\u001b[1;33m[\u001b[0m\u001b[1;34m'value'\u001b[0m\u001b[1;33m]\u001b[0m\u001b[1;33m}\u001b[0m\u001b[1;33m\u001b[0m\u001b[1;33m\u001b[0m\u001b[0m\n\u001b[1;32m----> 7\u001b[1;33m         \u001b[0mdf_w_prcp\u001b[0m \u001b[1;33m=\u001b[0m \u001b[0mdf_w_prcp\u001b[0m\u001b[1;33m.\u001b[0m\u001b[0mappend\u001b[0m\u001b[1;33m(\u001b[0m\u001b[0mnew_row\u001b[0m\u001b[1;33m,\u001b[0m \u001b[0mignore_index\u001b[0m\u001b[1;33m=\u001b[0m\u001b[1;32mTrue\u001b[0m\u001b[1;33m)\u001b[0m\u001b[1;33m\u001b[0m\u001b[1;33m\u001b[0m\u001b[0m\n\u001b[0m\u001b[0;32m      8\u001b[0m         \u001b[0mprint\u001b[0m\u001b[1;33m(\u001b[0m\u001b[0mnew_row\u001b[0m\u001b[1;33m)\u001b[0m\u001b[1;33m\u001b[0m\u001b[1;33m\u001b[0m\u001b[0m\n",
      "\u001b[1;31mNameError\u001b[0m: name 'df_w_prcp' is not defined"
     ]
    }
   ],
   "source": [
    "for index,row in df_zip_date_2010.iterrows():\n",
    "    response = requests.get('https://www.ncdc.noaa.gov/cdo-web/api/v2/data?datasetid=GHCND&locationid=ZIP:'+row.zipcode+'&datatypeid=PRCP&startdate='+row.incident_date+'&enddate='+row.incident_date, \n",
    "                             headers={'token':Token_w})\n",
    "    res_json = json.loads(response.text)\n",
    "    if res_json != {}:\n",
    "        new_row = {'date': row.incident_date, 'station': res_json['results'][0]['station'], 'zipcode': row.zipcode, 'prcp_value': res_json['results'][0]['value']}\n",
    "        df_w_prcp = df_w_prcp.append(new_row, ignore_index=True)\n",
    "        print(new_row)"
   ]
  },
  {
   "cell_type": "code",
   "execution_count": 59,
   "metadata": {},
   "outputs": [
    {
     "data": {
      "text/html": [
       "<div>\n",
       "<style scoped>\n",
       "    .dataframe tbody tr th:only-of-type {\n",
       "        vertical-align: middle;\n",
       "    }\n",
       "\n",
       "    .dataframe tbody tr th {\n",
       "        vertical-align: top;\n",
       "    }\n",
       "\n",
       "    .dataframe thead th {\n",
       "        text-align: right;\n",
       "    }\n",
       "</style>\n",
       "<table border=\"1\" class=\"dataframe\">\n",
       "  <thead>\n",
       "    <tr style=\"text-align: right;\">\n",
       "      <th></th>\n",
       "      <th>date</th>\n",
       "      <th>station</th>\n",
       "      <th>zipcode</th>\n",
       "      <th>value</th>\n",
       "    </tr>\n",
       "  </thead>\n",
       "  <tbody>\n",
       "    <tr>\n",
       "      <th>0</th>\n",
       "      <td>2010-01-07</td>\n",
       "      <td>GHCND:USC00083163</td>\n",
       "      <td>33315</td>\n",
       "      <td>50</td>\n",
       "    </tr>\n",
       "    <tr>\n",
       "      <th>1</th>\n",
       "      <td>2010-01-10</td>\n",
       "      <td>GHCND:USC00446147</td>\n",
       "      <td>23502</td>\n",
       "      <td>-39</td>\n",
       "    </tr>\n",
       "    <tr>\n",
       "      <th>2</th>\n",
       "      <td>2010-01-12</td>\n",
       "      <td>GHCND:USC00413691</td>\n",
       "      <td>76051</td>\n",
       "      <td>-6</td>\n",
       "    </tr>\n",
       "    <tr>\n",
       "      <th>3</th>\n",
       "      <td>2010-01-16</td>\n",
       "      <td>GHCND:USC00502587</td>\n",
       "      <td>99685</td>\n",
       "      <td>28</td>\n",
       "    </tr>\n",
       "    <tr>\n",
       "      <th>4</th>\n",
       "      <td>2010-01-17</td>\n",
       "      <td>GHCND:USC00046572</td>\n",
       "      <td>93030</td>\n",
       "      <td>117</td>\n",
       "    </tr>\n",
       "    <tr>\n",
       "      <th>...</th>\n",
       "      <td>...</td>\n",
       "      <td>...</td>\n",
       "      <td>...</td>\n",
       "      <td>...</td>\n",
       "    </tr>\n",
       "    <tr>\n",
       "      <th>274</th>\n",
       "      <td>2010-10-01</td>\n",
       "      <td>GHCND:USC00083163</td>\n",
       "      <td>33315</td>\n",
       "      <td>211</td>\n",
       "    </tr>\n",
       "    <tr>\n",
       "      <th>275</th>\n",
       "      <td>2010-10-01</td>\n",
       "      <td>GHCND:USC00083163</td>\n",
       "      <td>33315</td>\n",
       "      <td>211</td>\n",
       "    </tr>\n",
       "    <tr>\n",
       "      <th>276</th>\n",
       "      <td>2010-10-03</td>\n",
       "      <td>GHCND:USC00111577</td>\n",
       "      <td>60638</td>\n",
       "      <td>61</td>\n",
       "    </tr>\n",
       "    <tr>\n",
       "      <th>277</th>\n",
       "      <td>2010-10-04</td>\n",
       "      <td>GHCND:USC00404561</td>\n",
       "      <td>38301</td>\n",
       "      <td>28</td>\n",
       "    </tr>\n",
       "    <tr>\n",
       "      <th>278</th>\n",
       "      <td>2010-10-04</td>\n",
       "      <td>GHCND:USC00516198</td>\n",
       "      <td>96720</td>\n",
       "      <td>156</td>\n",
       "    </tr>\n",
       "  </tbody>\n",
       "</table>\n",
       "<p>279 rows × 4 columns</p>\n",
       "</div>"
      ],
      "text/plain": [
       "           date            station zipcode value\n",
       "0    2010-01-07  GHCND:USC00083163   33315    50\n",
       "1    2010-01-10  GHCND:USC00446147   23502   -39\n",
       "2    2010-01-12  GHCND:USC00413691   76051    -6\n",
       "3    2010-01-16  GHCND:USC00502587   99685    28\n",
       "4    2010-01-17  GHCND:USC00046572   93030   117\n",
       "..          ...                ...     ...   ...\n",
       "274  2010-10-01  GHCND:USC00083163   33315   211\n",
       "275  2010-10-01  GHCND:USC00083163   33315   211\n",
       "276  2010-10-03  GHCND:USC00111577   60638    61\n",
       "277  2010-10-04  GHCND:USC00404561   38301    28\n",
       "278  2010-10-04  GHCND:USC00516198   96720   156\n",
       "\n",
       "[279 rows x 4 columns]"
      ]
     },
     "execution_count": 59,
     "metadata": {},
     "output_type": "execute_result"
    }
   ],
   "source": [
    "df_w_weather"
   ]
  }
 ],
 "metadata": {
  "kernelspec": {
   "display_name": "Python 3",
   "language": "python",
   "name": "python3"
  },
  "language_info": {
   "codemirror_mode": {
    "name": "ipython",
    "version": 3
   },
   "file_extension": ".py",
   "mimetype": "text/x-python",
   "name": "python",
   "nbconvert_exporter": "python",
   "pygments_lexer": "ipython3",
   "version": "3.8.5"
  }
 },
 "nbformat": 4,
 "nbformat_minor": 4
}
